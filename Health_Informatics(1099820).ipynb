{
  "nbformat": 4,
  "nbformat_minor": 0,
  "metadata": {
    "colab": {
      "name": "Health Informatics(1099820).ipynb",
      "provenance": [],
      "collapsed_sections": []
    },
    "kernelspec": {
      "name": "python3",
      "display_name": "Python 3"
    },
    "accelerator": "GPU"
  },
  "cells": [
    {
      "cell_type": "code",
      "metadata": {
        "id": "DW_7qHm9Busz",
        "colab_type": "code",
        "colab": {}
      },
      "source": [
        "#importing libraries\n",
        "import numpy as np \n",
        "import tensorflow as tf\n",
        "import pandas as pd\n",
        "from tqdm import tqdm\n",
        "import os\n",
        "from keras.callbacks import History , ModelCheckpoint\n",
        "import cv2\n",
        "from cv2 import imread, createCLAHE \n",
        "from keras.optimizers import Adam \n",
        "#from glob import globfrom keras.models import *\n",
        "from keras.layers import *\n",
        "from keras.optimizers import *\n",
        "from keras import backend as keras\n",
        "from keras.preprocessing.image import ImageDataGenerator\n",
        "from keras.callbacks import ModelCheckpoint, LearningRateScheduler\n",
        "%matplotlib inline\n",
        "import matplotlib.pyplot as plt\n",
        "from keras.models import Sequential\n",
        "from keras.layers import Dense, Dropout, UpSampling1D, RepeatVector,TimeDistributed\n",
        "from keras.layers import Embedding\n",
        "from keras.models import Model\n",
        "from keras.layers import Input, GaussianNoise\n",
        "from keras.models import load_model\n",
        "from tensorflow.keras.applications.resnet50 import ResNet50, preprocess_input\n",
        "from tensorflow.keras.applications.resnet import ResNet101, preprocess_input\n",
        "from keras.optimizers import SGD, Adam, RMSprop\n",
        "from keras.applications.vgg16 import preprocess_input\n",
        "from keras.applications.vgg16 import VGG16\n",
        "from keras.applications.vgg19 import VGG19\n",
        "from keras.applications.densenet import DenseNet201\n",
        "from keras.utils.vis_utils import plot_model\n",
        "from keras.callbacks import ModelCheckpoint, LearningRateScheduler, EarlyStopping, ReduceLROnPlateau\n",
        "from keras.optimizers import Adam \n",
        "from sklearn.model_selection import train_test_split"
      ],
      "execution_count": 2,
      "outputs": []
    },
    {
      "cell_type": "markdown",
      "metadata": {
        "id": "fKtswfnvt1c9",
        "colab_type": "text"
      },
      "source": [
        "**Changing the directory**"
      ]
    },
    {
      "cell_type": "code",
      "metadata": {
        "id": "sx6oEVeKUoC5",
        "colab_type": "code",
        "colab": {
          "base_uri": "https://localhost:8080/",
          "height": 34
        },
        "outputId": "0bb4dff1-de1e-4bea-c4cc-eb9389959d2d"
      },
      "source": [
        "print(os.getcwd())"
      ],
      "execution_count": 3,
      "outputs": [
        {
          "output_type": "stream",
          "text": [
            "/content\n"
          ],
          "name": "stdout"
        }
      ]
    },
    {
      "cell_type": "code",
      "metadata": {
        "id": "Fkur5ZQNUxS9",
        "colab_type": "code",
        "colab": {}
      },
      "source": [
        "os.chdir('drive')"
      ],
      "execution_count": 4,
      "outputs": []
    },
    {
      "cell_type": "code",
      "metadata": {
        "id": "nnwkp7ZsUsX1",
        "colab_type": "code",
        "colab": {}
      },
      "source": [
        "os.chdir('My Drive')"
      ],
      "execution_count": 5,
      "outputs": []
    },
    {
      "cell_type": "code",
      "metadata": {
        "id": "_koyLEoSV9g9",
        "colab_type": "code",
        "colab": {
          "base_uri": "https://localhost:8080/",
          "height": 34
        },
        "outputId": "07ae6035-9242-4525-ad1f-b01337a03a8d"
      },
      "source": [
        "print(os.getcwd())"
      ],
      "execution_count": 6,
      "outputs": [
        {
          "output_type": "stream",
          "text": [
            "/content/drive/My Drive\n"
          ],
          "name": "stdout"
        }
      ]
    },
    {
      "cell_type": "markdown",
      "metadata": {
        "id": "OAZcNdwRQiOq",
        "colab_type": "text"
      },
      "source": [
        "**Getting the path of images and masks**"
      ]
    },
    {
      "cell_type": "code",
      "metadata": {
        "id": "OnbmzEDaJUOs",
        "colab_type": "code",
        "colab": {}
      },
      "source": [
        "image_path = os.path.join(\"data/Lung Segmentation/CXR_png\")\n",
        "mask_path = os.path.join(\"data/Lung Segmentation/\",\"masks/\")"
      ],
      "execution_count": 7,
      "outputs": []
    },
    {
      "cell_type": "code",
      "metadata": {
        "id": "5uw_09lY2nF8",
        "colab_type": "code",
        "colab": {}
      },
      "source": [
        "mask = os.listdir(mask_path)"
      ],
      "execution_count": 8,
      "outputs": []
    },
    {
      "cell_type": "code",
      "metadata": {
        "id": "n9NGWPMJWCT9",
        "colab_type": "code",
        "colab": {}
      },
      "source": [
        "images = os.listdir(image_path)\n",
        "mask = os.listdir(mask_path)\n",
        "mask = [fName.split(\".png\")[0] for fName in mask]\n",
        "image_file_name = [fName.split(\"_mask\")[0] for fName in mask]"
      ],
      "execution_count": 9,
      "outputs": []
    },
    {
      "cell_type": "code",
      "metadata": {
        "id": "-wI1vVRJWJ0x",
        "colab_type": "code",
        "colab": {
          "base_uri": "https://localhost:8080/",
          "height": 34
        },
        "outputId": "df18f7e0-5818-4649-f21e-e111f5b17188"
      },
      "source": [
        "#getting training files\n",
        "check = [i for i in mask if \"mask\" in i]\n",
        "print(\"Total mask that has modified name:\",len(check))\n",
        "# 0 represents normal 1 represents abnormal"
      ],
      "execution_count": 10,
      "outputs": [
        {
          "output_type": "stream",
          "text": [
            "Total mask that has modified name: 566\n"
          ],
          "name": "stdout"
        }
      ]
    },
    {
      "cell_type": "code",
      "metadata": {
        "id": "cjFak8KEM2os",
        "colab_type": "code",
        "colab": {}
      },
      "source": [
        "#getting images and masks in same list\n",
        "testing_files = set(os.listdir(image_path)) & set(os.listdir(mask_path))"
      ],
      "execution_count": 11,
      "outputs": []
    },
    {
      "cell_type": "code",
      "metadata": {
        "id": "mgCf50cB8Maw",
        "colab_type": "code",
        "colab": {}
      },
      "source": [
        "testing_files = list(testing_files)"
      ],
      "execution_count": 12,
      "outputs": []
    },
    {
      "cell_type": "code",
      "metadata": {
        "id": "Sk51BjuMOQH6",
        "colab_type": "code",
        "colab": {}
      },
      "source": [
        "training_files = check"
      ],
      "execution_count": 13,
      "outputs": []
    },
    {
      "cell_type": "code",
      "metadata": {
        "id": "fyRW-FUOJT3M",
        "colab_type": "code",
        "colab": {}
      },
      "source": [
        "#getting labels from testing files\n",
        "testing_files[0][12:13]\n",
        "label_test = []\n",
        "for i in range(len(testing_files)):\n",
        "  if testing_files[i][12:13] == '1':\n",
        "    label_test.append('1')\n",
        "  else:\n",
        "    label_test.append('0')\n"
      ],
      "execution_count": 14,
      "outputs": []
    },
    {
      "cell_type": "code",
      "metadata": {
        "id": "et9PFI3511SO",
        "colab_type": "code",
        "colab": {}
      },
      "source": [
        "#getting labels from training files\n",
        "training_files[0][12:13]\n",
        "label_train= []\n",
        "for i in range(len(training_files)):\n",
        "  if training_files[i][12:13] == '1':\n",
        "    label_train.append('1')\n",
        "  else:\n",
        "    label_train.append('0')\n",
        "\n",
        "  "
      ],
      "execution_count": 15,
      "outputs": []
    },
    {
      "cell_type": "code",
      "metadata": {
        "id": "2FrUrnMo7rFR",
        "colab_type": "code",
        "colab": {}
      },
      "source": [
        "#function that separates xtrain and ytrain and resizing the image into 256 x 256 \n",
        "def getData(X_shape, flag = \"test\"):\n",
        "    im_array = []\n",
        "    mask_array = []\n",
        "    \n",
        "    if flag == \"test\":\n",
        "        for i in tqdm(testing_files): \n",
        "            im = cv2.resize(cv2.imread(os.path.join(image_path,i)),(X_shape,X_shape))[:,:,0]\n",
        "           \n",
        "            mask = cv2.resize(cv2.imread(os.path.join(mask_path,i)),(X_shape,X_shape))[:,:,0]\n",
        "          \n",
        "            im_array.append(im)\n",
        "            mask_array.append(mask)\n",
        "        \n",
        "        return im_array,mask_array\n",
        "    \n",
        "    if flag == \"train\":\n",
        "        for i in tqdm(training_files): \n",
        "            im = cv2.resize(cv2.imread(os.path.join(image_path,i.split(\"_mask\")[0]+\".png\")),(X_shape,X_shape))[:,:,0]\n",
        "            mask = cv2.resize(cv2.imread(os.path.join(mask_path,i+\".png\")),(X_shape,X_shape))[:,:,0]\n",
        "\n",
        "            im_array.append(im)\n",
        "            mask_array.append(mask)\n",
        "\n",
        "        return im_array,mask_array"
      ],
      "execution_count": 16,
      "outputs": []
    },
    {
      "cell_type": "code",
      "metadata": {
        "id": "9eUTkXobWeEo",
        "colab_type": "code",
        "colab": {
          "base_uri": "https://localhost:8080/",
          "height": 51
        },
        "outputId": "62724f8b-9eff-4b88-b157-f2d77090e812"
      },
      "source": [
        "#separaing training and testing \n",
        "dim = 256\n",
        "X_train,y_train = getData(dim,flag=\"train\")\n",
        "X_test, y_test = getData(dim)"
      ],
      "execution_count": 17,
      "outputs": [
        {
          "output_type": "stream",
          "text": [
            "100%|██████████| 566/566 [41:01<00:00,  4.35s/it]\n",
            "100%|██████████| 138/138 [11:55<00:00,  5.18s/it]\n"
          ],
          "name": "stderr"
        }
      ]
    },
    {
      "cell_type": "code",
      "metadata": {
        "id": "FarK1PJSbdpJ",
        "colab_type": "code",
        "colab": {}
      },
      "source": [
        "#reshaping the dimensions\n",
        "X_train = np.array(X_train).reshape(len(X_train),dim,dim,1)\n",
        "y_train = np.array(y_train).reshape(len(y_train),dim,dim,1)\n",
        "X_test = np.array(X_test).reshape(len(X_test),dim,dim,1)\n",
        "y_test = np.array(y_test).reshape(len(y_test),dim,dim,1)\n",
        "assert X_train.shape == y_train.shape\n",
        "assert X_test.shape == y_test.shape\n",
        "images = np.concatenate((X_train,X_test),axis=0)\n",
        "mask  = np.concatenate((y_train,y_test),axis=0)"
      ],
      "execution_count": 19,
      "outputs": []
    },
    {
      "cell_type": "code",
      "metadata": {
        "id": "ZgbVG2WWjXnh",
        "colab_type": "code",
        "colab": {
          "base_uri": "https://localhost:8080/",
          "height": 85
        },
        "outputId": "3a2099b6-e50a-4ad3-a7da-608f4fa7d335"
      },
      "source": [
        "print(\"shape of X_train\", X_train.shape)\n",
        "print(\"shape of y_train\", y_train.shape)\n",
        "print(\"shape of X_test\", X_test.shape)\n",
        "print(\"shape of y_test\", y_test.shape)\n"
      ],
      "execution_count": 20,
      "outputs": [
        {
          "output_type": "stream",
          "text": [
            "shape of X_train (566, 256, 256, 1)\n",
            "shape of y_train (566, 256, 256, 1)\n",
            "shape of X_test (138, 256, 256, 1)\n",
            "shape of y_test (138, 256, 256, 1)\n"
          ],
          "name": "stdout"
        }
      ]
    },
    {
      "cell_type": "code",
      "metadata": {
        "id": "baixFk0ZGdqd",
        "colab_type": "code",
        "colab": {}
      },
      "source": [
        "#appending the label\n",
        "label = label_train + label_test"
      ],
      "execution_count": 21,
      "outputs": []
    },
    {
      "cell_type": "code",
      "metadata": {
        "id": "5Wm0Wkb5WzuJ",
        "colab_type": "code",
        "colab": {}
      },
      "source": [
        "y = np.array(label)"
      ],
      "execution_count": 22,
      "outputs": []
    },
    {
      "cell_type": "markdown",
      "metadata": {
        "id": "s3e7IT-VVxj8",
        "colab_type": "text"
      },
      "source": [
        "**Making Unet architecture**"
      ]
    },
    {
      "cell_type": "code",
      "metadata": {
        "id": "LBQTsWNpbhKV",
        "colab_type": "code",
        "colab": {}
      },
      "source": [
        "def dice_coef(y_true, y_pred):\n",
        "    y_true_f = keras.flatten(y_true)\n",
        "    y_pred_f = keras.flatten(y_pred)\n",
        "    intersection = keras.sum(y_true_f * y_pred_f)\n",
        "    return (2. * intersection + 1) / (keras.sum(y_true_f) + keras.sum(y_pred_f) + 1)\n",
        "\n",
        "def dice_coef_loss(y_true, y_pred):\n",
        "    return -dice_coef(y_true, y_pred)\n",
        "\n",
        "def unet(input_size=(256,256,1)):\n",
        "    inputs = Input(input_size)\n",
        "    \n",
        "    conv1 = Conv2D(32, (3, 3), activation='relu', padding='same')(inputs)\n",
        "    conv1 = Conv2D(32, (3, 3), activation='relu', padding='same')(conv1)\n",
        "    pool1 = MaxPooling2D(pool_size=(2, 2))(conv1)\n",
        "\n",
        "    conv2 = Conv2D(64, (3, 3), activation='relu', padding='same')(pool1)\n",
        "    conv2 = Conv2D(64, (3, 3), activation='relu', padding='same')(conv2)\n",
        "    pool2 = MaxPooling2D(pool_size=(2, 2))(conv2)\n",
        "\n",
        "    conv3 = Conv2D(128, (3, 3), activation='relu', padding='same')(pool2)\n",
        "    conv3 = Conv2D(128, (3, 3), activation='relu', padding='same')(conv3)\n",
        "    pool3 = MaxPooling2D(pool_size=(2, 2))(conv3)\n",
        "\n",
        "    conv4 = Conv2D(256, (3, 3), activation='relu', padding='same')(pool3)\n",
        "    conv4 = Conv2D(256, (3, 3), activation='relu', padding='same')(conv4)\n",
        "    pool4 = MaxPooling2D(pool_size=(2, 2))(conv4)\n",
        "\n",
        "    conv5 = Conv2D(512, (3, 3), activation='relu', padding='same')(pool4)\n",
        "    conv5 = Conv2D(512, (3, 3), activation='relu', padding='same')(conv5)\n",
        "\n",
        "    up6 = concatenate([Conv2DTranspose(256, (2, 2), strides=(2, 2), padding='same')(conv5), conv4], axis=3)\n",
        "    conv6 = Conv2D(256, (3, 3), activation='relu', padding='same')(up6)\n",
        "    conv6 = Conv2D(256, (3, 3), activation='relu', padding='same')(conv6)\n",
        "\n",
        "    up7 = concatenate([Conv2DTranspose(128, (2, 2), strides=(2, 2), padding='same')(conv6), conv3], axis=3)\n",
        "    conv7 = Conv2D(128, (3, 3), activation='relu', padding='same')(up7)\n",
        "    conv7 = Conv2D(128, (3, 3), activation='relu', padding='same')(conv7)\n",
        "\n",
        "    up8 = concatenate([Conv2DTranspose(64, (2, 2), strides=(2, 2), padding='same')(conv7), conv2], axis=3)\n",
        "    conv8 = Conv2D(64, (3, 3), activation='relu', padding='same')(up8)\n",
        "    conv8 = Conv2D(64, (3, 3), activation='relu', padding='same')(conv8)\n",
        "\n",
        "    up9 = concatenate([Conv2DTranspose(32, (2, 2), strides=(2, 2), padding='same')(conv8), conv1], axis=3)\n",
        "    conv9 = Conv2D(32, (3, 3), activation='relu', padding='same')(up9)\n",
        "    conv9 = Conv2D(32, (3, 3), activation='relu', padding='same')(conv9)\n",
        "\n",
        "    conv10 = Conv2D(1, (1, 1), activation='sigmoid')(conv9)\n",
        "\n",
        "    return Model(inputs=[inputs], outputs=[conv10])"
      ],
      "execution_count": 23,
      "outputs": []
    },
    {
      "cell_type": "code",
      "metadata": {
        "id": "ICqKIzDvbniA",
        "colab_type": "code",
        "colab": {
          "base_uri": "https://localhost:8080/",
          "height": 1000
        },
        "outputId": "4e65a5fe-04d6-45d0-aca7-5ce03e034b3d"
      },
      "source": [
        "model = unet(input_size=(256,256,1))\n",
        "model.compile(optimizer=Adam(lr=1e-5), loss=dice_coef_loss,\n",
        "                  metrics=[dice_coef, 'binary_accuracy'])\n",
        "model.summary()\n"
      ],
      "execution_count": 24,
      "outputs": [
        {
          "output_type": "stream",
          "text": [
            "Model: \"functional_1\"\n",
            "__________________________________________________________________________________________________\n",
            "Layer (type)                    Output Shape         Param #     Connected to                     \n",
            "==================================================================================================\n",
            "input_1 (InputLayer)            [(None, 256, 256, 1) 0                                            \n",
            "__________________________________________________________________________________________________\n",
            "conv2d (Conv2D)                 (None, 256, 256, 32) 320         input_1[0][0]                    \n",
            "__________________________________________________________________________________________________\n",
            "conv2d_1 (Conv2D)               (None, 256, 256, 32) 9248        conv2d[0][0]                     \n",
            "__________________________________________________________________________________________________\n",
            "max_pooling2d (MaxPooling2D)    (None, 128, 128, 32) 0           conv2d_1[0][0]                   \n",
            "__________________________________________________________________________________________________\n",
            "conv2d_2 (Conv2D)               (None, 128, 128, 64) 18496       max_pooling2d[0][0]              \n",
            "__________________________________________________________________________________________________\n",
            "conv2d_3 (Conv2D)               (None, 128, 128, 64) 36928       conv2d_2[0][0]                   \n",
            "__________________________________________________________________________________________________\n",
            "max_pooling2d_1 (MaxPooling2D)  (None, 64, 64, 64)   0           conv2d_3[0][0]                   \n",
            "__________________________________________________________________________________________________\n",
            "conv2d_4 (Conv2D)               (None, 64, 64, 128)  73856       max_pooling2d_1[0][0]            \n",
            "__________________________________________________________________________________________________\n",
            "conv2d_5 (Conv2D)               (None, 64, 64, 128)  147584      conv2d_4[0][0]                   \n",
            "__________________________________________________________________________________________________\n",
            "max_pooling2d_2 (MaxPooling2D)  (None, 32, 32, 128)  0           conv2d_5[0][0]                   \n",
            "__________________________________________________________________________________________________\n",
            "conv2d_6 (Conv2D)               (None, 32, 32, 256)  295168      max_pooling2d_2[0][0]            \n",
            "__________________________________________________________________________________________________\n",
            "conv2d_7 (Conv2D)               (None, 32, 32, 256)  590080      conv2d_6[0][0]                   \n",
            "__________________________________________________________________________________________________\n",
            "max_pooling2d_3 (MaxPooling2D)  (None, 16, 16, 256)  0           conv2d_7[0][0]                   \n",
            "__________________________________________________________________________________________________\n",
            "conv2d_8 (Conv2D)               (None, 16, 16, 512)  1180160     max_pooling2d_3[0][0]            \n",
            "__________________________________________________________________________________________________\n",
            "conv2d_9 (Conv2D)               (None, 16, 16, 512)  2359808     conv2d_8[0][0]                   \n",
            "__________________________________________________________________________________________________\n",
            "conv2d_transpose (Conv2DTranspo (None, 32, 32, 256)  524544      conv2d_9[0][0]                   \n",
            "__________________________________________________________________________________________________\n",
            "concatenate (Concatenate)       (None, 32, 32, 512)  0           conv2d_transpose[0][0]           \n",
            "                                                                 conv2d_7[0][0]                   \n",
            "__________________________________________________________________________________________________\n",
            "conv2d_10 (Conv2D)              (None, 32, 32, 256)  1179904     concatenate[0][0]                \n",
            "__________________________________________________________________________________________________\n",
            "conv2d_11 (Conv2D)              (None, 32, 32, 256)  590080      conv2d_10[0][0]                  \n",
            "__________________________________________________________________________________________________\n",
            "conv2d_transpose_1 (Conv2DTrans (None, 64, 64, 128)  131200      conv2d_11[0][0]                  \n",
            "__________________________________________________________________________________________________\n",
            "concatenate_1 (Concatenate)     (None, 64, 64, 256)  0           conv2d_transpose_1[0][0]         \n",
            "                                                                 conv2d_5[0][0]                   \n",
            "__________________________________________________________________________________________________\n",
            "conv2d_12 (Conv2D)              (None, 64, 64, 128)  295040      concatenate_1[0][0]              \n",
            "__________________________________________________________________________________________________\n",
            "conv2d_13 (Conv2D)              (None, 64, 64, 128)  147584      conv2d_12[0][0]                  \n",
            "__________________________________________________________________________________________________\n",
            "conv2d_transpose_2 (Conv2DTrans (None, 128, 128, 64) 32832       conv2d_13[0][0]                  \n",
            "__________________________________________________________________________________________________\n",
            "concatenate_2 (Concatenate)     (None, 128, 128, 128 0           conv2d_transpose_2[0][0]         \n",
            "                                                                 conv2d_3[0][0]                   \n",
            "__________________________________________________________________________________________________\n",
            "conv2d_14 (Conv2D)              (None, 128, 128, 64) 73792       concatenate_2[0][0]              \n",
            "__________________________________________________________________________________________________\n",
            "conv2d_15 (Conv2D)              (None, 128, 128, 64) 36928       conv2d_14[0][0]                  \n",
            "__________________________________________________________________________________________________\n",
            "conv2d_transpose_3 (Conv2DTrans (None, 256, 256, 32) 8224        conv2d_15[0][0]                  \n",
            "__________________________________________________________________________________________________\n",
            "concatenate_3 (Concatenate)     (None, 256, 256, 64) 0           conv2d_transpose_3[0][0]         \n",
            "                                                                 conv2d_1[0][0]                   \n",
            "__________________________________________________________________________________________________\n",
            "conv2d_16 (Conv2D)              (None, 256, 256, 32) 18464       concatenate_3[0][0]              \n",
            "__________________________________________________________________________________________________\n",
            "conv2d_17 (Conv2D)              (None, 256, 256, 32) 9248        conv2d_16[0][0]                  \n",
            "__________________________________________________________________________________________________\n",
            "conv2d_18 (Conv2D)              (None, 256, 256, 1)  33          conv2d_17[0][0]                  \n",
            "==================================================================================================\n",
            "Total params: 7,759,521\n",
            "Trainable params: 7,759,521\n",
            "Non-trainable params: 0\n",
            "__________________________________________________________________________________________________\n"
          ],
          "name": "stdout"
        }
      ]
    },
    {
      "cell_type": "code",
      "metadata": {
        "id": "JqvuEv17rev8",
        "colab_type": "code",
        "colab": {}
      },
      "source": [
        "#plot_model(model, to_file='unet.png', show_shapes=True, show_layer_names=True)"
      ],
      "execution_count": null,
      "outputs": []
    },
    {
      "cell_type": "code",
      "metadata": {
        "id": "bs_bpft9btKX",
        "colab_type": "code",
        "colab": {
          "base_uri": "https://localhost:8080/",
          "height": 411
        },
        "outputId": "8bee3876-75e5-47f7-ecc3-29377b3a9fc0"
      },
      "source": [
        "\n",
        "\n",
        "model.compile(optimizer=Adam(lr=2e-4), loss=[dice_coef_loss], metrics = [dice_coef, 'binary_accuracy'])\n",
        "\n",
        "train_vol, validation_vol, train_seg, validation_seg = train_test_split((images-127.0)/127.0, (mask>127).astype(np.float32), test_size = 0.1,random_state = 2018)\n",
        "\n",
        "train_Vol, test_Vol, train_Seg, test_seg = train_test_split(train_vol,train_seg, test_size = 0.1, random_state = 2018)\n",
        "\n",
        "\n",
        "loss_history = model.fit(x = train_Vol,y = train_Seg,batch_size = 2,epochs = 10, validation_data =(test_Vol,test_seg))\n"
      ],
      "execution_count": 25,
      "outputs": [
        {
          "output_type": "stream",
          "text": [
            "Epoch 1/10\n",
            "  1/285 [..............................] - ETA: 0s - loss: -0.2756 - dice_coef: 0.2756 - binary_accuracy: 0.7704WARNING:tensorflow:Callbacks method `on_train_batch_end` is slow compared to the batch time (batch time: 0.0134s vs `on_train_batch_end` time: 0.0249s). Check your callbacks.\n",
            "285/285 [==============================] - ETA: 0s - loss: -0.7952 - dice_coef: 0.7954 - binary_accuracy: 0.8924WARNING:tensorflow:Callbacks method `on_test_batch_end` is slow compared to the batch time (batch time: 0.0031s vs `on_test_batch_end` time: 0.0077s). Check your callbacks.\n",
            "285/285 [==============================] - 14s 47ms/step - loss: -0.7952 - dice_coef: 0.7954 - binary_accuracy: 0.8924 - val_loss: -0.9163 - val_dice_coef: 0.9163 - val_binary_accuracy: 0.9574\n",
            "Epoch 2/10\n",
            "285/285 [==============================] - 12s 43ms/step - loss: -0.9310 - dice_coef: 0.9311 - binary_accuracy: 0.9659 - val_loss: -0.9415 - val_dice_coef: 0.9415 - val_binary_accuracy: 0.9703\n",
            "Epoch 3/10\n",
            "285/285 [==============================] - 13s 44ms/step - loss: -0.9447 - dice_coef: 0.9447 - binary_accuracy: 0.9728 - val_loss: -0.9466 - val_dice_coef: 0.9466 - val_binary_accuracy: 0.9724\n",
            "Epoch 4/10\n",
            "285/285 [==============================] - 13s 45ms/step - loss: -0.9497 - dice_coef: 0.9497 - binary_accuracy: 0.9753 - val_loss: -0.9439 - val_dice_coef: 0.9439 - val_binary_accuracy: 0.9716\n",
            "Epoch 5/10\n",
            "285/285 [==============================] - 13s 45ms/step - loss: -0.9547 - dice_coef: 0.9547 - binary_accuracy: 0.9778 - val_loss: -0.9552 - val_dice_coef: 0.9552 - val_binary_accuracy: 0.9767\n",
            "Epoch 6/10\n",
            "285/285 [==============================] - 13s 46ms/step - loss: -0.9566 - dice_coef: 0.9566 - binary_accuracy: 0.9787 - val_loss: -0.9549 - val_dice_coef: 0.9549 - val_binary_accuracy: 0.9767\n",
            "Epoch 7/10\n",
            "285/285 [==============================] - 13s 47ms/step - loss: -0.9583 - dice_coef: 0.9583 - binary_accuracy: 0.9795 - val_loss: -0.9538 - val_dice_coef: 0.9538 - val_binary_accuracy: 0.9757\n",
            "Epoch 8/10\n",
            "285/285 [==============================] - 13s 47ms/step - loss: -0.9595 - dice_coef: 0.9595 - binary_accuracy: 0.9800 - val_loss: -0.9520 - val_dice_coef: 0.9520 - val_binary_accuracy: 0.9755\n",
            "Epoch 9/10\n",
            "285/285 [==============================] - 13s 47ms/step - loss: -0.9580 - dice_coef: 0.9580 - binary_accuracy: 0.9793 - val_loss: -0.9586 - val_dice_coef: 0.9586 - val_binary_accuracy: 0.9784\n",
            "Epoch 10/10\n",
            "285/285 [==============================] - 13s 46ms/step - loss: -0.9596 - dice_coef: 0.9596 - binary_accuracy: 0.9800 - val_loss: -0.9536 - val_dice_coef: 0.9536 - val_binary_accuracy: 0.9761\n"
          ],
          "name": "stdout"
        }
      ]
    },
    {
      "cell_type": "code",
      "metadata": {
        "id": "QNz_3ZxVbv8p",
        "colab_type": "code",
        "colab": {
          "base_uri": "https://localhost:8080/",
          "height": 337
        },
        "outputId": "d962439e-dd4d-48b5-ac0e-87b7889a8aef"
      },
      "source": [
        "fig, (ax1, ax2) = plt.subplots(1, 2, figsize = (10, 5))\n",
        "ax1.plot(loss_history.history['loss'], '-', label = 'Loss')\n",
        "ax1.plot(loss_history.history['val_loss'], '-', label = 'Validation Loss')\n",
        "ax1.legend()\n",
        "\n",
        "ax2.plot(100*np.array(loss_history.history['binary_accuracy']), '-', \n",
        "         label = 'Accuracy')\n",
        "ax2.plot(100*np.array(loss_history.history['val_binary_accuracy']), '-',\n",
        "         label = 'Validation Accuracy')\n",
        "ax2.legend()"
      ],
      "execution_count": 26,
      "outputs": [
        {
          "output_type": "execute_result",
          "data": {
            "text/plain": [
              "<matplotlib.legend.Legend at 0x7ff41ceebeb8>"
            ]
          },
          "metadata": {
            "tags": []
          },
          "execution_count": 26
        },
        {
          "output_type": "display_data",
          "data": {
            "image/png": "[encoded data removed]",
            "text/plain": [
              "<Figure size 720x360 with 2 Axes>"
            ]
          },
          "metadata": {
            "tags": [],
            "needs_background": "light"
          }
        }
      ]
    },
    {
      "cell_type": "code",
      "metadata": {
        "id": "MdMEbFa5bz2O",
        "colab_type": "code",
        "colab": {
          "base_uri": "https://localhost:8080/",
          "height": 417
        },
        "outputId": "cc5e8a99-98cf-4334-f65e-bd5172a801b6"
      },
      "source": [
        "pred_candidates = np.random.randint(1,validation_vol.shape[0],10)\n",
        "preds = model.predict(validation_vol)\n",
        "\n",
        "plt.figure(figsize=(20,10))\n",
        "\n",
        "for i in range(0,6,3):\n",
        "    plt.subplot(3,3,i+1)\n",
        "    \n",
        "    plt.imshow(np.squeeze(validation_vol[pred_candidates[i]]))\n",
        "    plt.xlabel(\"Base Image\")\n",
        "    \n",
        "    \n",
        "    plt.subplot(3,3,i+2)\n",
        "    plt.imshow(np.squeeze(validation_seg[pred_candidates[i]]))\n",
        "    plt.xlabel(\"Mask\")\n",
        "    \n",
        "    plt.subplot(3,3,i+3)\n",
        "    plt.imshow(np.squeeze(preds[pred_candidates[i]]))\n",
        "    plt.xlabel(\"Prediction\")"
      ],
      "execution_count": 27,
      "outputs": [
        {
          "output_type": "display_data",
          "data": {
            "image/png": "[encoded data removed]",
            "text/plain": [
              "<Figure size 1440x720 with 6 Axes>"
            ]
          },
          "metadata": {
            "tags": [],
            "needs_background": "light"
          }
        }
      ]
    },
    {
      "cell_type": "markdown",
      "metadata": {
        "id": "JAYyFks_ZX_O",
        "colab_type": "text"
      },
      "source": [
        "**Predicting the train data from Unet and passing to combined model**"
      ]
    },
    {
      "cell_type": "code",
      "metadata": {
        "id": "YE3xoAUiYUqn",
        "colab_type": "code",
        "colab": {}
      },
      "source": [
        "#splitting the data again and predicting from the model\n",
        "train_X, test_X, train_y, test_y = train_test_split((images-127.0)/127.0, y, test_size = 0.2,random_state = 20)"
      ],
      "execution_count": 28,
      "outputs": []
    },
    {
      "cell_type": "code",
      "metadata": {
        "id": "sU__7ht4ebv2",
        "colab_type": "code",
        "colab": {}
      },
      "source": [
        "#predicting the train data\n",
        "pred_train = model.predict(train_X)"
      ],
      "execution_count": 29,
      "outputs": []
    },
    {
      "cell_type": "code",
      "metadata": {
        "id": "Qo0hKvcnRRZa",
        "colab_type": "code",
        "colab": {
          "base_uri": "https://localhost:8080/",
          "height": 34
        },
        "outputId": "206740e0-dd24-4dc8-eeb7-748c0d3ea1f5"
      },
      "source": [
        "#train shape\n",
        "pred_train.shape"
      ],
      "execution_count": 30,
      "outputs": [
        {
          "output_type": "execute_result",
          "data": {
            "text/plain": [
              "(563, 256, 256, 1)"
            ]
          },
          "metadata": {
            "tags": []
          },
          "execution_count": 30
        }
      ]
    },
    {
      "cell_type": "markdown",
      "metadata": {
        "id": "vXPVXqI0ZpAi",
        "colab_type": "text"
      },
      "source": [
        "**Pretrained model only takes 3 channel input so converting into RGB**"
      ]
    },
    {
      "cell_type": "code",
      "metadata": {
        "id": "e5VoIrWdXK_O",
        "colab_type": "code",
        "colab": {}
      },
      "source": [
        "#converting grayscale to rgb (train data)\n",
        "rgb = []\n",
        "for i in range(len(pred_train)):\n",
        "  rgb.append(np.repeat(pred_train[i,],3,-1))"
      ],
      "execution_count": 34,
      "outputs": []
    },
    {
      "cell_type": "code",
      "metadata": {
        "id": "UvY4KnrjYSFa",
        "colab_type": "code",
        "colab": {}
      },
      "source": [
        "#storing in numpy array\n",
        "rgb_train = np.array(rgb)"
      ],
      "execution_count": 35,
      "outputs": []
    },
    {
      "cell_type": "code",
      "metadata": {
        "id": "KDooyo4hah2D",
        "colab_type": "code",
        "colab": {
          "base_uri": "https://localhost:8080/",
          "height": 34
        },
        "outputId": "067998a8-3534-4960-b4a9-05de491bb4e6"
      },
      "source": [
        "rgb_train.shape"
      ],
      "execution_count": 36,
      "outputs": [
        {
          "output_type": "execute_result",
          "data": {
            "text/plain": [
              "(563, 256, 256, 3)"
            ]
          },
          "metadata": {
            "tags": []
          },
          "execution_count": 36
        }
      ]
    },
    {
      "cell_type": "markdown",
      "metadata": {
        "id": "D1tM1ZJDZ3R6",
        "colab_type": "text"
      },
      "source": [
        "**Predicting the test data**"
      ]
    },
    {
      "cell_type": "code",
      "metadata": {
        "id": "Aw-0FbtZZNcO",
        "colab_type": "code",
        "colab": {}
      },
      "source": [
        "pred_test = model.predict(test_X)"
      ],
      "execution_count": 37,
      "outputs": []
    },
    {
      "cell_type": "code",
      "metadata": {
        "id": "-rhp0G63eo3g",
        "colab_type": "code",
        "colab": {
          "base_uri": "https://localhost:8080/",
          "height": 34
        },
        "outputId": "920ddf72-53fa-4cb2-937d-358a3283953c"
      },
      "source": [
        "pred_test.shape"
      ],
      "execution_count": 38,
      "outputs": [
        {
          "output_type": "execute_result",
          "data": {
            "text/plain": [
              "(141, 256, 256, 1)"
            ]
          },
          "metadata": {
            "tags": []
          },
          "execution_count": 38
        }
      ]
    },
    {
      "cell_type": "markdown",
      "metadata": {
        "id": "pIcTWex-aCbU",
        "colab_type": "text"
      },
      "source": [
        "**Converting the test data to RGB channel**"
      ]
    },
    {
      "cell_type": "code",
      "metadata": {
        "id": "CzjmmJ4het09",
        "colab_type": "code",
        "colab": {}
      },
      "source": [
        "rgb_ = []\n",
        "for i in range(len(pred_test)):\n",
        "  rgb_.append(np.repeat(pred_test[i,],3,-1))"
      ],
      "execution_count": 39,
      "outputs": []
    },
    {
      "cell_type": "code",
      "metadata": {
        "id": "Qd2ZuV-fcIoZ",
        "colab_type": "code",
        "colab": {}
      },
      "source": [
        "rgb_test = np.array(rgb_)"
      ],
      "execution_count": 40,
      "outputs": []
    },
    {
      "cell_type": "code",
      "metadata": {
        "id": "NX6-jyRscf3T",
        "colab_type": "code",
        "colab": {
          "base_uri": "https://localhost:8080/",
          "height": 34
        },
        "outputId": "98d563eb-17f3-485f-985c-9d44da373e19"
      },
      "source": [
        "rgb_test.shape"
      ],
      "execution_count": 41,
      "outputs": [
        {
          "output_type": "execute_result",
          "data": {
            "text/plain": [
              "(141, 256, 256, 3)"
            ]
          },
          "metadata": {
            "tags": []
          },
          "execution_count": 41
        }
      ]
    },
    {
      "cell_type": "markdown",
      "metadata": {
        "id": "Cwi5dBuzcmUF",
        "colab_type": "text"
      },
      "source": [
        "**labels to categorical**"
      ]
    },
    {
      "cell_type": "code",
      "metadata": {
        "id": "ZJAJ63AhUO3p",
        "colab_type": "code",
        "colab": {}
      },
      "source": [
        "Y_train = []\n",
        "for i in range(len(train_y)):\n",
        "  Y_train.append(int(train_y[i]))\n"
      ],
      "execution_count": 42,
      "outputs": []
    },
    {
      "cell_type": "code",
      "metadata": {
        "id": "yqdAGTXpY2E_",
        "colab_type": "code",
        "colab": {}
      },
      "source": [
        "Y_test = []\n",
        "for i in range(len(test_y)):\n",
        "  Y_test.append(int(test_y[i]))"
      ],
      "execution_count": 43,
      "outputs": []
    },
    {
      "cell_type": "code",
      "metadata": {
        "id": "moh9gN0pHLzN",
        "colab_type": "code",
        "colab": {}
      },
      "source": [
        "Y_train = np.array(Y_train)\n",
        "Y_test = np.array(Y_test)"
      ],
      "execution_count": 44,
      "outputs": []
    },
    {
      "cell_type": "code",
      "metadata": {
        "id": "Wytc0HXbhVC8",
        "colab_type": "code",
        "colab": {}
      },
      "source": [
        "train_Y = tf.keras.utils.to_categorical(Y_train, num_classes=2)"
      ],
      "execution_count": 45,
      "outputs": []
    },
    {
      "cell_type": "code",
      "metadata": {
        "id": "6S_tG4zeYsdt",
        "colab_type": "code",
        "colab": {}
      },
      "source": [
        "test_Y = tf.keras.utils.to_categorical(Y_test, num_classes=2)"
      ],
      "execution_count": 46,
      "outputs": []
    },
    {
      "cell_type": "markdown",
      "metadata": {
        "id": "Wvr3l0NQXpOs",
        "colab_type": "text"
      },
      "source": [
        "**InceptionV3 and resnet**"
      ]
    },
    {
      "cell_type": "code",
      "metadata": {
        "id": "fB9Hd4xU68Yq",
        "colab_type": "code",
        "colab": {
          "base_uri": "https://localhost:8080/",
          "height": 85
        },
        "outputId": "b3e0fab8-5dcb-4d21-e4c0-18681d97bd6a"
      },
      "source": [
        "model_V3 = tf.keras.applications.InceptionV3(weights='imagenet',input_tensor=Input(shape=(256, 256, 3)), include_top=False)\n",
        "ResNet50 = ResNet50(weights='imagenet', include_top=False, input_tensor=Input(shape=(256, 256, 3)))"
      ],
      "execution_count": 47,
      "outputs": [
        {
          "output_type": "stream",
          "text": [
            "Downloading data from https://storage.googleapis.com/tensorflow/keras-applications/inception_v3/inception_v3_weights_tf_dim_ordering_tf_kernels_notop.h5\n",
            "87916544/87910968 [==============================] - 1s 0us/step\n",
            "Downloading data from https://storage.googleapis.com/tensorflow/keras-applications/resnet/resnet50_weights_tf_dim_ordering_tf_kernels_notop.h5\n",
            "94773248/94765736 [==============================] - 1s 0us/step\n"
          ],
          "name": "stdout"
        }
      ]
    },
    {
      "cell_type": "code",
      "metadata": {
        "id": "p480yLsyx3_5",
        "colab_type": "code",
        "colab": {}
      },
      "source": [
        "\n",
        "for layer in model_V3.layers:\n",
        "    layer.trainable = False\n",
        "for layer in ResNet50.layers:\n",
        "    layer.trainable = False"
      ],
      "execution_count": 49,
      "outputs": []
    },
    {
      "cell_type": "code",
      "metadata": {
        "id": "wcR5BKyvyJNv",
        "colab_type": "code",
        "colab": {}
      },
      "source": [
        "visible = Input(shape=(256,256,3))\n",
        "\n",
        "model1 = model_V3(visible)\n",
        "model2 = ResNet50(visible)"
      ],
      "execution_count": 50,
      "outputs": []
    },
    {
      "cell_type": "code",
      "metadata": {
        "id": "RYsfX2S7wP7r",
        "colab_type": "code",
        "colab": {}
      },
      "source": [
        "model1 = GlobalAveragePooling2D()(model1)\n",
        "model2 = GlobalAveragePooling2D()(model2)\n",
        "merge = concatenate([model1,model2])\n",
        "#adding dense layers\n",
        "hidden1 = Dense(250, activation='relu')(merge)\n",
        "hidden2 = Dense(250, activation='relu')(hidden1)\n",
        "hidden3 = Dense(250, activation='relu')(hidden2)\n",
        "output = Dense(2, activation='softmax')(hidden3)\n",
        "combined_inception = Model(inputs=visible, outputs=output)"
      ],
      "execution_count": 51,
      "outputs": []
    },
    {
      "cell_type": "markdown",
      "metadata": {
        "id": "ifqHgVerK73F",
        "colab_type": "text"
      },
      "source": [
        "**Compiling and training the model**"
      ]
    },
    {
      "cell_type": "code",
      "metadata": {
        "id": "fPOL3wtY7dkB",
        "colab_type": "code",
        "colab": {}
      },
      "source": [
        "from keras.callbacks import History , ModelCheckpoint\n",
        "\n",
        "history = History()\n",
        "checkpoint = ModelCheckpoint('Resnet-v3' ,monitor='val_accuracy', save_best_only=True)"
      ],
      "execution_count": 52,
      "outputs": []
    },
    {
      "cell_type": "code",
      "metadata": {
        "id": "Dz6gKCW0wYpU",
        "colab_type": "code",
        "colab": {}
      },
      "source": [
        "combined_inception.compile(optimizer=RMSprop(lr=0.0002), loss='binary_crossentropy', metrics=['accuracy'] )"
      ],
      "execution_count": 53,
      "outputs": []
    },
    {
      "cell_type": "code",
      "metadata": {
        "id": "E_Z5uElawhhB",
        "colab_type": "code",
        "colab": {
          "base_uri": "https://localhost:8080/",
          "height": 1000
        },
        "outputId": "a0fbfc7f-dd11-465b-b85e-25e93efca069"
      },
      "source": [
        "history = combined_inception.fit(rgb_train,train_Y,epochs =70,batch_size=2,validation_data = (rgb_test,test_Y), verbose=1,callbacks = [history , checkpoint])"
      ],
      "execution_count": 54,
      "outputs": [
        {
          "output_type": "stream",
          "text": [
            "Epoch 1/70\n",
            "282/282 [==============================] - ETA: 0s - loss: 0.7164 - accuracy: 0.5861WARNING:tensorflow:From /usr/local/lib/python3.6/dist-packages/tensorflow/python/training/tracking/tracking.py:111: Model.state_updates (from tensorflow.python.keras.engine.training) is deprecated and will be removed in a future version.\n",
            "Instructions for updating:\n",
            "This property should not be used in TensorFlow 2.0, as updates are applied automatically.\n",
            "WARNING:tensorflow:From /usr/local/lib/python3.6/dist-packages/tensorflow/python/training/tracking/tracking.py:111: Layer.updates (from tensorflow.python.keras.engine.base_layer) is deprecated and will be removed in a future version.\n",
            "Instructions for updating:\n",
            "This property should not be used in TensorFlow 2.0, as updates are applied automatically.\n",
            "INFO:tensorflow:Assets written to: Resnet-v3/assets\n",
            "282/282 [==============================] - 79s 279ms/step - loss: 0.7164 - accuracy: 0.5861 - val_loss: 0.7082 - val_accuracy: 0.5248\n",
            "Epoch 2/70\n",
            "282/282 [==============================] - 11s 38ms/step - loss: 0.6351 - accuracy: 0.6661 - val_loss: 1.0751 - val_accuracy: 0.4539\n",
            "Epoch 3/70\n",
            "281/282 [============================>.] - ETA: 0s - loss: 0.6034 - accuracy: 0.7046INFO:tensorflow:Assets written to: Resnet-v3/assets\n",
            "282/282 [==============================] - 76s 268ms/step - loss: 0.6062 - accuracy: 0.7034 - val_loss: 0.5123 - val_accuracy: 0.7305\n",
            "Epoch 4/70\n",
            "281/282 [============================>.] - ETA: 0s - loss: 0.5615 - accuracy: 0.7117INFO:tensorflow:Assets written to: Resnet-v3/assets\n",
            "282/282 [==============================] - 76s 269ms/step - loss: 0.5614 - accuracy: 0.7123 - val_loss: 0.5046 - val_accuracy: 0.7376\n",
            "Epoch 5/70\n",
            "282/282 [==============================] - 11s 38ms/step - loss: 0.5576 - accuracy: 0.7371 - val_loss: 0.7770 - val_accuracy: 0.7092\n",
            "Epoch 6/70\n",
            "282/282 [==============================] - 11s 38ms/step - loss: 0.5450 - accuracy: 0.7211 - val_loss: 0.8317 - val_accuracy: 0.6170\n",
            "Epoch 7/70\n",
            "282/282 [==============================] - 11s 38ms/step - loss: 0.5323 - accuracy: 0.7300 - val_loss: 0.4978 - val_accuracy: 0.7376\n",
            "Epoch 8/70\n",
            "281/282 [============================>.] - ETA: 0s - loss: 0.5246 - accuracy: 0.7544INFO:tensorflow:Assets written to: Resnet-v3/assets\n",
            "282/282 [==============================] - 77s 271ms/step - loss: 0.5241 - accuracy: 0.7549 - val_loss: 0.5027 - val_accuracy: 0.7589\n",
            "Epoch 9/70\n",
            "282/282 [==============================] - 11s 38ms/step - loss: 0.4980 - accuracy: 0.7496 - val_loss: 0.8104 - val_accuracy: 0.6170\n",
            "Epoch 10/70\n",
            "282/282 [==============================] - 11s 38ms/step - loss: 0.4867 - accuracy: 0.7726 - val_loss: 0.6183 - val_accuracy: 0.7092\n",
            "Epoch 11/70\n",
            "282/282 [==============================] - 11s 38ms/step - loss: 0.4796 - accuracy: 0.7638 - val_loss: 0.5833 - val_accuracy: 0.7021\n",
            "Epoch 12/70\n",
            "282/282 [==============================] - 11s 38ms/step - loss: 0.4710 - accuracy: 0.7709 - val_loss: 0.5750 - val_accuracy: 0.6879\n",
            "Epoch 13/70\n",
            "282/282 [==============================] - 11s 37ms/step - loss: 0.4486 - accuracy: 0.7798 - val_loss: 0.5418 - val_accuracy: 0.7589\n",
            "Epoch 14/70\n",
            "281/282 [============================>.] - ETA: 0s - loss: 0.4368 - accuracy: 0.7811INFO:tensorflow:Assets written to: Resnet-v3/assets\n",
            "282/282 [==============================] - 77s 272ms/step - loss: 0.4363 - accuracy: 0.7815 - val_loss: 0.7259 - val_accuracy: 0.7660\n",
            "Epoch 15/70\n",
            "282/282 [==============================] - 11s 38ms/step - loss: 0.4176 - accuracy: 0.8224 - val_loss: 0.5898 - val_accuracy: 0.7376\n",
            "Epoch 16/70\n",
            "282/282 [==============================] - 11s 38ms/step - loss: 0.3978 - accuracy: 0.8295 - val_loss: 0.7554 - val_accuracy: 0.7660\n",
            "Epoch 17/70\n",
            "282/282 [==============================] - 11s 38ms/step - loss: 0.4025 - accuracy: 0.8188 - val_loss: 0.8135 - val_accuracy: 0.7589\n",
            "Epoch 18/70\n",
            "281/282 [============================>.] - ETA: 0s - loss: 0.3850 - accuracy: 0.8381INFO:tensorflow:Assets written to: Resnet-v3/assets\n",
            "282/282 [==============================] - 74s 264ms/step - loss: 0.3843 - accuracy: 0.8384 - val_loss: 0.6384 - val_accuracy: 0.7730\n",
            "Epoch 19/70\n",
            "282/282 [==============================] - 10s 37ms/step - loss: 0.3914 - accuracy: 0.8437 - val_loss: 0.7118 - val_accuracy: 0.6383\n",
            "Epoch 20/70\n",
            "282/282 [==============================] - 11s 37ms/step - loss: 0.3696 - accuracy: 0.8472 - val_loss: 1.6761 - val_accuracy: 0.6950\n",
            "Epoch 21/70\n",
            "282/282 [==============================] - 10s 37ms/step - loss: 0.3698 - accuracy: 0.8366 - val_loss: 0.7645 - val_accuracy: 0.7234\n",
            "Epoch 22/70\n",
            "282/282 [==============================] - 10s 37ms/step - loss: 0.3454 - accuracy: 0.8490 - val_loss: 0.8212 - val_accuracy: 0.7447\n",
            "Epoch 23/70\n",
            "282/282 [==============================] - 10s 37ms/step - loss: 0.3496 - accuracy: 0.8757 - val_loss: 1.2640 - val_accuracy: 0.7021\n",
            "Epoch 24/70\n",
            "282/282 [==============================] - 10s 37ms/step - loss: 0.3249 - accuracy: 0.8632 - val_loss: 0.9526 - val_accuracy: 0.7234\n",
            "Epoch 25/70\n",
            "282/282 [==============================] - 10s 37ms/step - loss: 0.3320 - accuracy: 0.8703 - val_loss: 1.1254 - val_accuracy: 0.7163\n",
            "Epoch 26/70\n",
            "282/282 [==============================] - 10s 37ms/step - loss: 0.3052 - accuracy: 0.8774 - val_loss: 1.0998 - val_accuracy: 0.7092\n",
            "Epoch 27/70\n",
            "282/282 [==============================] - 10s 37ms/step - loss: 0.2810 - accuracy: 0.9094 - val_loss: 1.4264 - val_accuracy: 0.6241\n",
            "Epoch 28/70\n",
            "282/282 [==============================] - 10s 37ms/step - loss: 0.2893 - accuracy: 0.8899 - val_loss: 1.3659 - val_accuracy: 0.6170\n",
            "Epoch 29/70\n",
            "282/282 [==============================] - 10s 37ms/step - loss: 0.2894 - accuracy: 0.9059 - val_loss: 0.8593 - val_accuracy: 0.7163\n",
            "Epoch 30/70\n",
            "282/282 [==============================] - 10s 37ms/step - loss: 0.2979 - accuracy: 0.8881 - val_loss: 1.4330 - val_accuracy: 0.7092\n",
            "Epoch 31/70\n",
            "282/282 [==============================] - 10s 37ms/step - loss: 0.2498 - accuracy: 0.9005 - val_loss: 1.6222 - val_accuracy: 0.7163\n",
            "Epoch 32/70\n",
            "282/282 [==============================] - 10s 37ms/step - loss: 0.2857 - accuracy: 0.8988 - val_loss: 1.0200 - val_accuracy: 0.7092\n",
            "Epoch 33/70\n",
            "282/282 [==============================] - 10s 37ms/step - loss: 0.2277 - accuracy: 0.9183 - val_loss: 1.2525 - val_accuracy: 0.7518\n",
            "Epoch 34/70\n",
            "282/282 [==============================] - 10s 37ms/step - loss: 0.2621 - accuracy: 0.9147 - val_loss: 2.1656 - val_accuracy: 0.7092\n",
            "Epoch 35/70\n",
            "282/282 [==============================] - 10s 37ms/step - loss: 0.2302 - accuracy: 0.9201 - val_loss: 1.4687 - val_accuracy: 0.7021\n",
            "Epoch 36/70\n",
            "282/282 [==============================] - 10s 37ms/step - loss: 0.2299 - accuracy: 0.9307 - val_loss: 1.2482 - val_accuracy: 0.7163\n",
            "Epoch 37/70\n",
            "282/282 [==============================] - 10s 37ms/step - loss: 0.2275 - accuracy: 0.9183 - val_loss: 1.2603 - val_accuracy: 0.7092\n",
            "Epoch 38/70\n",
            "282/282 [==============================] - 10s 37ms/step - loss: 0.1981 - accuracy: 0.9361 - val_loss: 1.6725 - val_accuracy: 0.7305\n",
            "Epoch 39/70\n",
            "282/282 [==============================] - 10s 37ms/step - loss: 0.2145 - accuracy: 0.9183 - val_loss: 1.6579 - val_accuracy: 0.7305\n",
            "Epoch 40/70\n",
            "282/282 [==============================] - 10s 37ms/step - loss: 0.2322 - accuracy: 0.9218 - val_loss: 1.2280 - val_accuracy: 0.7447\n",
            "Epoch 41/70\n",
            "282/282 [==============================] - 10s 37ms/step - loss: 0.2281 - accuracy: 0.9236 - val_loss: 1.9450 - val_accuracy: 0.7092\n",
            "Epoch 42/70\n",
            "282/282 [==============================] - 10s 37ms/step - loss: 0.2223 - accuracy: 0.9432 - val_loss: 1.9944 - val_accuracy: 0.7021\n",
            "Epoch 43/70\n",
            "282/282 [==============================] - 10s 37ms/step - loss: 0.1603 - accuracy: 0.9503 - val_loss: 1.3443 - val_accuracy: 0.7447\n",
            "Epoch 44/70\n",
            "282/282 [==============================] - 10s 37ms/step - loss: 0.2030 - accuracy: 0.9449 - val_loss: 1.3799 - val_accuracy: 0.7447\n",
            "Epoch 45/70\n",
            "282/282 [==============================] - 10s 37ms/step - loss: 0.1944 - accuracy: 0.9485 - val_loss: 1.3386 - val_accuracy: 0.7376\n",
            "Epoch 46/70\n",
            "282/282 [==============================] - 10s 37ms/step - loss: 0.2058 - accuracy: 0.9485 - val_loss: 1.4830 - val_accuracy: 0.7305\n",
            "Epoch 47/70\n",
            "282/282 [==============================] - 10s 37ms/step - loss: 0.1960 - accuracy: 0.9467 - val_loss: 1.1732 - val_accuracy: 0.7447\n",
            "Epoch 48/70\n",
            "282/282 [==============================] - 10s 37ms/step - loss: 0.1615 - accuracy: 0.9449 - val_loss: 2.0809 - val_accuracy: 0.6099\n",
            "Epoch 49/70\n",
            "282/282 [==============================] - 10s 37ms/step - loss: 0.1584 - accuracy: 0.9556 - val_loss: 1.6681 - val_accuracy: 0.7234\n",
            "Epoch 50/70\n",
            "282/282 [==============================] - 10s 37ms/step - loss: 0.2609 - accuracy: 0.9449 - val_loss: 1.3948 - val_accuracy: 0.7518\n",
            "Epoch 51/70\n",
            "282/282 [==============================] - 10s 37ms/step - loss: 0.2073 - accuracy: 0.9520 - val_loss: 1.6346 - val_accuracy: 0.7730\n",
            "Epoch 52/70\n",
            "282/282 [==============================] - 10s 37ms/step - loss: 0.1389 - accuracy: 0.9556 - val_loss: 1.6110 - val_accuracy: 0.7376\n",
            "Epoch 53/70\n",
            "282/282 [==============================] - 10s 37ms/step - loss: 0.1784 - accuracy: 0.9467 - val_loss: 1.5992 - val_accuracy: 0.7305\n",
            "Epoch 54/70\n",
            "282/282 [==============================] - 10s 37ms/step - loss: 0.1806 - accuracy: 0.9591 - val_loss: 1.3220 - val_accuracy: 0.7447\n",
            "Epoch 55/70\n",
            "282/282 [==============================] - 10s 37ms/step - loss: 0.1342 - accuracy: 0.9680 - val_loss: 1.2698 - val_accuracy: 0.7305\n",
            "Epoch 56/70\n",
            "282/282 [==============================] - 10s 37ms/step - loss: 0.1403 - accuracy: 0.9591 - val_loss: 1.9550 - val_accuracy: 0.7305\n",
            "Epoch 57/70\n",
            "282/282 [==============================] - 10s 37ms/step - loss: 0.1813 - accuracy: 0.9698 - val_loss: 1.5619 - val_accuracy: 0.7447\n",
            "Epoch 58/70\n",
            "282/282 [==============================] - 10s 37ms/step - loss: 0.1204 - accuracy: 0.9556 - val_loss: 1.9009 - val_accuracy: 0.6879\n",
            "Epoch 59/70\n",
            "282/282 [==============================] - 10s 37ms/step - loss: 0.1276 - accuracy: 0.9787 - val_loss: 1.7982 - val_accuracy: 0.7234\n",
            "Epoch 60/70\n",
            "282/282 [==============================] - 10s 37ms/step - loss: 0.2036 - accuracy: 0.9680 - val_loss: 1.8401 - val_accuracy: 0.7234\n",
            "Epoch 61/70\n",
            "282/282 [==============================] - 10s 37ms/step - loss: 0.1438 - accuracy: 0.9627 - val_loss: 2.1364 - val_accuracy: 0.6667\n",
            "Epoch 62/70\n",
            "282/282 [==============================] - 10s 37ms/step - loss: 0.1157 - accuracy: 0.9751 - val_loss: 3.2198 - val_accuracy: 0.7092\n",
            "Epoch 63/70\n",
            "282/282 [==============================] - 10s 37ms/step - loss: 0.1009 - accuracy: 0.9805 - val_loss: 1.7666 - val_accuracy: 0.7234\n",
            "Epoch 64/70\n",
            "282/282 [==============================] - 10s 37ms/step - loss: 0.1687 - accuracy: 0.9680 - val_loss: 4.1318 - val_accuracy: 0.5177\n",
            "Epoch 65/70\n",
            "282/282 [==============================] - 10s 37ms/step - loss: 0.1393 - accuracy: 0.9716 - val_loss: 1.9724 - val_accuracy: 0.7447\n",
            "Epoch 66/70\n",
            "282/282 [==============================] - 10s 37ms/step - loss: 0.2022 - accuracy: 0.9645 - val_loss: 1.7163 - val_accuracy: 0.7376\n",
            "Epoch 67/70\n",
            "282/282 [==============================] - 10s 37ms/step - loss: 0.0939 - accuracy: 0.9716 - val_loss: 1.9482 - val_accuracy: 0.7163\n",
            "Epoch 68/70\n",
            "282/282 [==============================] - 10s 37ms/step - loss: 0.1567 - accuracy: 0.9769 - val_loss: 2.0953 - val_accuracy: 0.7518\n",
            "Epoch 69/70\n",
            "282/282 [==============================] - 10s 37ms/step - loss: 0.0852 - accuracy: 0.9840 - val_loss: 2.3753 - val_accuracy: 0.7447\n",
            "Epoch 70/70\n",
            "282/282 [==============================] - 10s 37ms/step - loss: 0.0559 - accuracy: 0.9858 - val_loss: 2.3429 - val_accuracy: 0.7234\n"
          ],
          "name": "stdout"
        }
      ]
    },
    {
      "cell_type": "code",
      "metadata": {
        "id": "WwnMk1-9ReuG",
        "colab_type": "code",
        "colab": {}
      },
      "source": [
        "model_history1 = np.array(history.history)\n",
        "#np.save('Transfer-learning/model_history1', model_history)"
      ],
      "execution_count": 57,
      "outputs": []
    },
    {
      "cell_type": "code",
      "metadata": {
        "id": "CXsA_7OL5At4",
        "colab_type": "code",
        "colab": {}
      },
      "source": [
        "np.save('Transfer-learning/model_history1', model_history1)"
      ],
      "execution_count": 58,
      "outputs": []
    },
    {
      "cell_type": "code",
      "metadata": {
        "id": "k0is3YSFSVmR",
        "colab_type": "code",
        "colab": {}
      },
      "source": [
        "model_history1 = np.load('Transfer-learning/model_history1.npy', allow_pickle=True)\n",
        "val_acc1 = model_history1.item().get('val_accuracy')\n",
        "acc1 = model_history1.item().get('accuracy')"
      ],
      "execution_count": 59,
      "outputs": []
    },
    {
      "cell_type": "code",
      "metadata": {
        "id": "fDWxyD622I23",
        "colab_type": "code",
        "colab": {}
      },
      "source": [
        "#plt.plot(val_acc1)"
      ],
      "execution_count": 122,
      "outputs": []
    },
    {
      "cell_type": "code",
      "metadata": {
        "id": "MDVwwIUdSr6b",
        "colab_type": "code",
        "colab": {
          "base_uri": "https://localhost:8080/",
          "height": 34
        },
        "outputId": "623fd79c-5b71-4f3b-caa2-7a517d412f22"
      },
      "source": [
        "combined_inception.save('Transfer-learning/model1')"
      ],
      "execution_count": 61,
      "outputs": [
        {
          "output_type": "stream",
          "text": [
            "INFO:tensorflow:Assets written to: Transfer-learning/model1/assets\n"
          ],
          "name": "stdout"
        }
      ]
    },
    {
      "cell_type": "code",
      "metadata": {
        "id": "HMO14DZZE1H8",
        "colab_type": "code",
        "colab": {}
      },
      "source": [
        "combined_model_V3 = load_model('Resnet-v3')"
      ],
      "execution_count": 62,
      "outputs": []
    },
    {
      "cell_type": "code",
      "metadata": {
        "id": "y4E2qNTrFRwD",
        "colab_type": "code",
        "colab": {
          "base_uri": "https://localhost:8080/",
          "height": 51
        },
        "outputId": "bcf2db0e-ad8c-4fae-cb99-974fdeb62ee8"
      },
      "source": [
        "combined_model_V3.evaluate(rgb_test,test_Y)"
      ],
      "execution_count": 63,
      "outputs": [
        {
          "output_type": "stream",
          "text": [
            "5/5 [==============================] - 1s 296ms/step - loss: 0.6384 - accuracy: 0.7730\n"
          ],
          "name": "stdout"
        },
        {
          "output_type": "execute_result",
          "data": {
            "text/plain": [
              "[0.6384482383728027, 0.7730496525764465]"
            ]
          },
          "metadata": {
            "tags": []
          },
          "execution_count": 63
        }
      ]
    },
    {
      "cell_type": "markdown",
      "metadata": {
        "id": "6Dw-JlPIkc5x",
        "colab_type": "text"
      },
      "source": [
        "**VGG16 and Resnet 50 model**"
      ]
    },
    {
      "cell_type": "code",
      "metadata": {
        "id": "un94YJyKkglY",
        "colab_type": "code",
        "colab": {
          "base_uri": "https://localhost:8080/",
          "height": 51
        },
        "outputId": "a7cadd59-1439-4678-981f-3127d698ac81"
      },
      "source": [
        "#getting 2 models\n",
        "vgg_imagenet = VGG16(weights='imagenet', include_top=False, input_tensor=Input(shape=(256, 256, 3)))\n",
        "#ResNet50 = ResNet50(weights='imagenet', include_top=False, input_tensor=Input(shape=(256, 256, 3)))"
      ],
      "execution_count": 64,
      "outputs": [
        {
          "output_type": "stream",
          "text": [
            "Downloading data from https://storage.googleapis.com/tensorflow/keras-applications/vgg16/vgg16_weights_tf_dim_ordering_tf_kernels_notop.h5\n",
            "58892288/58889256 [==============================] - 0s 0us/step\n"
          ],
          "name": "stdout"
        }
      ]
    },
    {
      "cell_type": "code",
      "metadata": {
        "id": "gb9aFtRCkncz",
        "colab_type": "code",
        "colab": {}
      },
      "source": [
        "\n",
        "for layer in vgg_imagenet.layers:\n",
        "    layer.trainable = False\n",
        "for layer in ResNet50.layers:\n",
        "    layer.trainable = False"
      ],
      "execution_count": 65,
      "outputs": []
    },
    {
      "cell_type": "code",
      "metadata": {
        "id": "OZuoG3rRkueQ",
        "colab_type": "code",
        "colab": {}
      },
      "source": [
        "#vgg_imagenet.summary()"
      ],
      "execution_count": 66,
      "outputs": []
    },
    {
      "cell_type": "code",
      "metadata": {
        "id": "CqCGNRBkkzB3",
        "colab_type": "code",
        "colab": {}
      },
      "source": [
        "#ResNet50.summary()"
      ],
      "execution_count": 67,
      "outputs": []
    },
    {
      "cell_type": "code",
      "metadata": {
        "id": "OsFZFck6k1Kk",
        "colab_type": "code",
        "colab": {}
      },
      "source": [
        "visible = Input(shape=(256,256,3))\n",
        "\n",
        "model11 = vgg_imagenet(visible)\n",
        "model21 = ResNet50(visible)"
      ],
      "execution_count": 68,
      "outputs": []
    },
    {
      "cell_type": "code",
      "metadata": {
        "id": "SCdgtFcck_PD",
        "colab_type": "code",
        "colab": {}
      },
      "source": [
        "model11 = GlobalAveragePooling2D()(model11)\n",
        "model21 = GlobalAveragePooling2D()(model21)"
      ],
      "execution_count": 69,
      "outputs": []
    },
    {
      "cell_type": "code",
      "metadata": {
        "id": "-XKIHQCDlDWq",
        "colab_type": "code",
        "colab": {}
      },
      "source": [
        "#combining 2 models\n",
        "merge = concatenate([model11,model21])"
      ],
      "execution_count": 70,
      "outputs": []
    },
    {
      "cell_type": "code",
      "metadata": {
        "id": "znW2pf__lGx6",
        "colab_type": "code",
        "colab": {}
      },
      "source": [
        "#adding dense layers\n",
        "hidden1 = Dense(250, activation='relu')(merge)    \n",
        "hidden2 = Dense(250, activation='relu')(hidden1)\n",
        "hidden3 = Dense(250, activation='relu')(hidden2)\n",
        "output = Dense(2, activation='softmax')(hidden3)\n",
        "combined_model_vgg = Model(inputs=visible, outputs=output)"
      ],
      "execution_count": 71,
      "outputs": []
    },
    {
      "cell_type": "code",
      "metadata": {
        "id": "PdJvJ2Mmpfrm",
        "colab_type": "code",
        "colab": {
          "base_uri": "https://localhost:8080/",
          "height": 837
        },
        "outputId": "ab98c0d2-fec1-4287-eba8-5e7a1ffc24f8"
      },
      "source": [
        "plot_model(combined_model_vgg, to_file='combined_model_VGG.png', show_shapes=True, show_layer_names=True)"
      ],
      "execution_count": 72,
      "outputs": [
        {
          "output_type": "execute_result",
          "data": {
            "image/png": "[encoded data removed]",
            "text/plain": [
              "<IPython.core.display.Image object>"
            ]
          },
          "metadata": {
            "tags": []
          },
          "execution_count": 72
        }
      ]
    },
    {
      "cell_type": "markdown",
      "metadata": {
        "id": "uFRGhGWZLD1F",
        "colab_type": "text"
      },
      "source": [
        "**Compiling and training the model**"
      ]
    },
    {
      "cell_type": "code",
      "metadata": {
        "id": "xiDxHOdalLKY",
        "colab_type": "code",
        "colab": {}
      },
      "source": [
        "combined_model_vgg.compile(optimizer=RMSprop(lr=0.0002), loss='binary_crossentropy', metrics=['accuracy'] )"
      ],
      "execution_count": 73,
      "outputs": []
    },
    {
      "cell_type": "code",
      "metadata": {
        "id": "lzTVMZCmRrmP",
        "colab_type": "code",
        "colab": {}
      },
      "source": [
        "\n",
        "\n",
        "history_resv = History()\n",
        "checkpoint = ModelCheckpoint('VGG16-Resnet50' ,monitor = 'val_accuracy', save_best_only=True)"
      ],
      "execution_count": 74,
      "outputs": []
    },
    {
      "cell_type": "code",
      "metadata": {
        "id": "xvI-ew8hlQl_",
        "colab_type": "code",
        "colab": {
          "base_uri": "https://localhost:8080/",
          "height": 1000
        },
        "outputId": "38ae7014-bdfd-49b2-e8e2-766271273942"
      },
      "source": [
        "history_resv = combined_model_vgg.fit(rgb_train,train_Y,epochs =70,batch_size=2,validation_data = (rgb_test,test_Y), verbose=1, callbacks=[history_resv,checkpoint])"
      ],
      "execution_count": 75,
      "outputs": [
        {
          "output_type": "stream",
          "text": [
            "Epoch 1/70\n",
            "282/282 [==============================] - ETA: 0s - loss: 0.7244 - accuracy: 0.5346INFO:tensorflow:Assets written to: VGG16-Resnet50/assets\n",
            "282/282 [==============================] - 40s 141ms/step - loss: 0.7244 - accuracy: 0.5346 - val_loss: 0.6526 - val_accuracy: 0.6383\n",
            "Epoch 2/70\n",
            "282/282 [==============================] - 11s 37ms/step - loss: 0.6697 - accuracy: 0.5808 - val_loss: 0.6746 - val_accuracy: 0.5816\n",
            "Epoch 3/70\n",
            "282/282 [==============================] - 11s 38ms/step - loss: 0.6422 - accuracy: 0.6412 - val_loss: 0.6809 - val_accuracy: 0.5957\n",
            "Epoch 4/70\n",
            "281/282 [============================>.] - ETA: 0s - loss: 0.6235 - accuracy: 0.6673INFO:tensorflow:Assets written to: VGG16-Resnet50/assets\n",
            "282/282 [==============================] - 39s 138ms/step - loss: 0.6231 - accuracy: 0.6679 - val_loss: 0.5607 - val_accuracy: 0.7021\n",
            "Epoch 5/70\n",
            "282/282 [==============================] - 11s 37ms/step - loss: 0.6088 - accuracy: 0.6572 - val_loss: 0.5746 - val_accuracy: 0.6879\n",
            "Epoch 6/70\n",
            "282/282 [==============================] - 11s 38ms/step - loss: 0.5946 - accuracy: 0.6767 - val_loss: 1.0561 - val_accuracy: 0.5887\n",
            "Epoch 7/70\n",
            "281/282 [============================>.] - ETA: 0s - loss: 0.5909 - accuracy: 0.6922INFO:tensorflow:Assets written to: VGG16-Resnet50/assets\n",
            "282/282 [==============================] - 38s 136ms/step - loss: 0.5901 - accuracy: 0.6927 - val_loss: 0.5407 - val_accuracy: 0.7518\n",
            "Epoch 8/70\n",
            "282/282 [==============================] - 11s 37ms/step - loss: 0.5959 - accuracy: 0.6963 - val_loss: 0.6532 - val_accuracy: 0.6525\n",
            "Epoch 9/70\n",
            "282/282 [==============================] - 11s 38ms/step - loss: 0.5867 - accuracy: 0.7087 - val_loss: 0.5294 - val_accuracy: 0.7234\n",
            "Epoch 10/70\n",
            "282/282 [==============================] - 11s 38ms/step - loss: 0.5660 - accuracy: 0.6963 - val_loss: 0.5280 - val_accuracy: 0.7376\n",
            "Epoch 11/70\n",
            "282/282 [==============================] - 11s 37ms/step - loss: 0.5588 - accuracy: 0.7069 - val_loss: 0.6863 - val_accuracy: 0.5957\n",
            "Epoch 12/70\n",
            "281/282 [============================>.] - ETA: 0s - loss: 0.5784 - accuracy: 0.6868INFO:tensorflow:Assets written to: VGG16-Resnet50/assets\n",
            "282/282 [==============================] - 39s 138ms/step - loss: 0.5776 - accuracy: 0.6874 - val_loss: 0.5139 - val_accuracy: 0.7589\n",
            "Epoch 13/70\n",
            "282/282 [==============================] - 10s 37ms/step - loss: 0.5690 - accuracy: 0.7087 - val_loss: 0.5106 - val_accuracy: 0.7447\n",
            "Epoch 14/70\n",
            "282/282 [==============================] - 11s 38ms/step - loss: 0.5481 - accuracy: 0.7034 - val_loss: 0.6347 - val_accuracy: 0.5957\n",
            "Epoch 15/70\n",
            "282/282 [==============================] - 11s 38ms/step - loss: 0.5493 - accuracy: 0.7247 - val_loss: 0.5466 - val_accuracy: 0.7234\n",
            "Epoch 16/70\n",
            "282/282 [==============================] - 11s 38ms/step - loss: 0.5474 - accuracy: 0.7282 - val_loss: 0.5081 - val_accuracy: 0.7305\n",
            "Epoch 17/70\n",
            "282/282 [==============================] - 11s 37ms/step - loss: 0.5403 - accuracy: 0.7087 - val_loss: 0.5229 - val_accuracy: 0.7518\n",
            "Epoch 18/70\n",
            "282/282 [==============================] - 10s 37ms/step - loss: 0.5540 - accuracy: 0.7211 - val_loss: 0.5414 - val_accuracy: 0.7305\n",
            "Epoch 19/70\n",
            "282/282 [==============================] - 10s 37ms/step - loss: 0.5504 - accuracy: 0.7336 - val_loss: 0.4994 - val_accuracy: 0.7447\n",
            "Epoch 20/70\n",
            "281/282 [============================>.] - ETA: 0s - loss: 0.5486 - accuracy: 0.7206INFO:tensorflow:Assets written to: VGG16-Resnet50/assets\n",
            "282/282 [==============================] - 38s 136ms/step - loss: 0.5477 - accuracy: 0.7211 - val_loss: 0.4819 - val_accuracy: 0.7660\n",
            "Epoch 21/70\n",
            "282/282 [==============================] - 10s 37ms/step - loss: 0.5632 - accuracy: 0.7425 - val_loss: 0.5010 - val_accuracy: 0.7234\n",
            "Epoch 22/70\n",
            "282/282 [==============================] - 11s 38ms/step - loss: 0.5214 - accuracy: 0.7265 - val_loss: 0.5324 - val_accuracy: 0.6809\n",
            "Epoch 23/70\n",
            "282/282 [==============================] - 11s 38ms/step - loss: 0.5509 - accuracy: 0.7407 - val_loss: 0.4949 - val_accuracy: 0.7376\n",
            "Epoch 24/70\n",
            "282/282 [==============================] - 11s 38ms/step - loss: 0.5359 - accuracy: 0.7407 - val_loss: 0.5472 - val_accuracy: 0.6879\n",
            "Epoch 25/70\n",
            "281/282 [============================>.] - ETA: 0s - loss: 0.5346 - accuracy: 0.7349INFO:tensorflow:Assets written to: VGG16-Resnet50/assets\n",
            "282/282 [==============================] - 39s 139ms/step - loss: 0.5342 - accuracy: 0.7353 - val_loss: 0.4821 - val_accuracy: 0.7872\n",
            "Epoch 26/70\n",
            "282/282 [==============================] - 10s 37ms/step - loss: 0.5314 - accuracy: 0.7353 - val_loss: 0.4811 - val_accuracy: 0.7801\n",
            "Epoch 27/70\n",
            "282/282 [==============================] - 11s 37ms/step - loss: 0.5467 - accuracy: 0.7353 - val_loss: 0.4877 - val_accuracy: 0.7447\n",
            "Epoch 28/70\n",
            "282/282 [==============================] - 11s 38ms/step - loss: 0.5303 - accuracy: 0.7158 - val_loss: 0.5449 - val_accuracy: 0.7660\n",
            "Epoch 29/70\n",
            "282/282 [==============================] - 11s 38ms/step - loss: 0.5391 - accuracy: 0.7531 - val_loss: 0.4819 - val_accuracy: 0.7872\n",
            "Epoch 30/70\n",
            "282/282 [==============================] - 11s 37ms/step - loss: 0.5289 - accuracy: 0.7389 - val_loss: 0.5019 - val_accuracy: 0.7163\n",
            "Epoch 31/70\n",
            "282/282 [==============================] - 10s 37ms/step - loss: 0.5717 - accuracy: 0.7531 - val_loss: 0.7170 - val_accuracy: 0.6525\n",
            "Epoch 32/70\n",
            "282/282 [==============================] - 10s 37ms/step - loss: 0.5182 - accuracy: 0.7353 - val_loss: 0.5058 - val_accuracy: 0.7518\n",
            "Epoch 33/70\n",
            "282/282 [==============================] - 10s 37ms/step - loss: 0.5423 - accuracy: 0.7353 - val_loss: 0.4936 - val_accuracy: 0.7730\n",
            "Epoch 34/70\n",
            "282/282 [==============================] - 10s 37ms/step - loss: 0.5515 - accuracy: 0.7478 - val_loss: 0.5343 - val_accuracy: 0.7092\n",
            "Epoch 35/70\n",
            "282/282 [==============================] - 10s 37ms/step - loss: 0.5447 - accuracy: 0.7460 - val_loss: 0.5259 - val_accuracy: 0.7305\n",
            "Epoch 36/70\n",
            "282/282 [==============================] - 11s 37ms/step - loss: 0.5532 - accuracy: 0.7496 - val_loss: 0.4888 - val_accuracy: 0.7589\n",
            "Epoch 37/70\n",
            "282/282 [==============================] - 11s 37ms/step - loss: 0.5157 - accuracy: 0.7442 - val_loss: 0.7337 - val_accuracy: 0.7305\n",
            "Epoch 38/70\n",
            "282/282 [==============================] - 11s 37ms/step - loss: 0.5367 - accuracy: 0.7584 - val_loss: 0.8326 - val_accuracy: 0.6738\n",
            "Epoch 39/70\n",
            "282/282 [==============================] - 11s 37ms/step - loss: 0.5159 - accuracy: 0.7584 - val_loss: 0.5553 - val_accuracy: 0.6809\n",
            "Epoch 40/70\n",
            "282/282 [==============================] - 10s 37ms/step - loss: 0.5179 - accuracy: 0.7780 - val_loss: 0.4815 - val_accuracy: 0.7801\n",
            "Epoch 41/70\n",
            "282/282 [==============================] - 10s 37ms/step - loss: 0.5013 - accuracy: 0.7567 - val_loss: 0.6972 - val_accuracy: 0.7518\n",
            "Epoch 42/70\n",
            "282/282 [==============================] - 10s 37ms/step - loss: 0.5232 - accuracy: 0.7584 - val_loss: 0.6013 - val_accuracy: 0.5887\n",
            "Epoch 43/70\n",
            "282/282 [==============================] - 10s 37ms/step - loss: 0.5292 - accuracy: 0.7798 - val_loss: 0.4883 - val_accuracy: 0.7234\n",
            "Epoch 44/70\n",
            "282/282 [==============================] - 10s 37ms/step - loss: 0.4960 - accuracy: 0.7673 - val_loss: 0.4852 - val_accuracy: 0.7376\n",
            "Epoch 45/70\n",
            "282/282 [==============================] - 10s 37ms/step - loss: 0.4877 - accuracy: 0.7496 - val_loss: 0.4730 - val_accuracy: 0.7730\n",
            "Epoch 46/70\n",
            "282/282 [==============================] - 10s 37ms/step - loss: 0.5497 - accuracy: 0.7709 - val_loss: 0.4811 - val_accuracy: 0.7589\n",
            "Epoch 47/70\n",
            "282/282 [==============================] - 10s 37ms/step - loss: 0.5171 - accuracy: 0.7691 - val_loss: 0.5859 - val_accuracy: 0.7092\n",
            "Epoch 48/70\n",
            "282/282 [==============================] - 10s 37ms/step - loss: 0.5078 - accuracy: 0.7371 - val_loss: 0.7160 - val_accuracy: 0.7447\n",
            "Epoch 49/70\n",
            "282/282 [==============================] - 10s 37ms/step - loss: 0.5420 - accuracy: 0.7673 - val_loss: 0.5341 - val_accuracy: 0.7660\n",
            "Epoch 50/70\n",
            "282/282 [==============================] - 10s 37ms/step - loss: 0.5011 - accuracy: 0.7407 - val_loss: 0.5697 - val_accuracy: 0.7801\n",
            "Epoch 51/70\n",
            "281/282 [============================>.] - ETA: 0s - loss: 0.4930 - accuracy: 0.7473INFO:tensorflow:Assets written to: VGG16-Resnet50/assets\n",
            "282/282 [==============================] - 38s 136ms/step - loss: 0.4927 - accuracy: 0.7478 - val_loss: 0.4689 - val_accuracy: 0.7943\n",
            "Epoch 52/70\n",
            "282/282 [==============================] - 11s 37ms/step - loss: 0.5274 - accuracy: 0.7425 - val_loss: 0.4934 - val_accuracy: 0.7234\n",
            "Epoch 53/70\n",
            "282/282 [==============================] - 11s 38ms/step - loss: 0.5239 - accuracy: 0.7762 - val_loss: 0.4757 - val_accuracy: 0.7730\n",
            "Epoch 54/70\n",
            "282/282 [==============================] - 11s 38ms/step - loss: 0.5116 - accuracy: 0.7673 - val_loss: 0.6815 - val_accuracy: 0.7376\n",
            "Epoch 55/70\n",
            "282/282 [==============================] - 11s 38ms/step - loss: 0.5701 - accuracy: 0.7780 - val_loss: 0.5017 - val_accuracy: 0.7447\n",
            "Epoch 56/70\n",
            "282/282 [==============================] - 11s 37ms/step - loss: 0.5087 - accuracy: 0.7691 - val_loss: 0.5145 - val_accuracy: 0.7730\n",
            "Epoch 57/70\n",
            "282/282 [==============================] - 11s 37ms/step - loss: 0.4788 - accuracy: 0.7709 - val_loss: 1.0937 - val_accuracy: 0.7305\n",
            "Epoch 58/70\n",
            "282/282 [==============================] - 10s 37ms/step - loss: 0.5109 - accuracy: 0.7780 - val_loss: 0.4989 - val_accuracy: 0.7518\n",
            "Epoch 59/70\n",
            "282/282 [==============================] - 10s 37ms/step - loss: 0.5345 - accuracy: 0.7904 - val_loss: 0.5873 - val_accuracy: 0.6738\n",
            "Epoch 60/70\n",
            "282/282 [==============================] - 11s 37ms/step - loss: 0.4806 - accuracy: 0.7584 - val_loss: 0.5264 - val_accuracy: 0.7730\n",
            "Epoch 61/70\n",
            "282/282 [==============================] - 11s 37ms/step - loss: 0.5388 - accuracy: 0.7638 - val_loss: 0.5539 - val_accuracy: 0.7163\n",
            "Epoch 62/70\n",
            "282/282 [==============================] - 11s 38ms/step - loss: 0.5163 - accuracy: 0.7744 - val_loss: 0.6330 - val_accuracy: 0.7376\n",
            "Epoch 63/70\n",
            "282/282 [==============================] - 11s 38ms/step - loss: 0.4749 - accuracy: 0.7780 - val_loss: 0.7173 - val_accuracy: 0.7163\n",
            "Epoch 64/70\n",
            "282/282 [==============================] - 11s 37ms/step - loss: 0.4863 - accuracy: 0.7780 - val_loss: 0.6354 - val_accuracy: 0.7163\n",
            "Epoch 65/70\n",
            "282/282 [==============================] - 11s 37ms/step - loss: 0.5127 - accuracy: 0.7584 - val_loss: 0.7913 - val_accuracy: 0.6879\n",
            "Epoch 66/70\n",
            "282/282 [==============================] - 10s 37ms/step - loss: 0.5085 - accuracy: 0.7780 - val_loss: 0.5336 - val_accuracy: 0.7801\n",
            "Epoch 67/70\n",
            "282/282 [==============================] - 11s 37ms/step - loss: 0.4848 - accuracy: 0.7957 - val_loss: 0.6389 - val_accuracy: 0.7163\n",
            "Epoch 68/70\n",
            "282/282 [==============================] - 10s 37ms/step - loss: 0.4818 - accuracy: 0.7780 - val_loss: 1.2517 - val_accuracy: 0.7092\n",
            "Epoch 69/70\n",
            "281/282 [============================>.] - ETA: 0s - loss: 0.5267 - accuracy: 0.7936INFO:tensorflow:Assets written to: VGG16-Resnet50/assets\n",
            "282/282 [==============================] - 38s 136ms/step - loss: 0.5272 - accuracy: 0.7922 - val_loss: 0.4808 - val_accuracy: 0.8085\n",
            "Epoch 70/70\n",
            "282/282 [==============================] - 10s 37ms/step - loss: 0.4879 - accuracy: 0.7709 - val_loss: 0.5942 - val_accuracy: 0.7305\n"
          ],
          "name": "stdout"
        }
      ]
    },
    {
      "cell_type": "code",
      "metadata": {
        "id": "5nyf6iNM6VJJ",
        "colab_type": "code",
        "colab": {}
      },
      "source": [
        "model_history2 = np.array(history_resv.history)"
      ],
      "execution_count": 76,
      "outputs": []
    },
    {
      "cell_type": "code",
      "metadata": {
        "id": "CFjh7SFa6cZg",
        "colab_type": "code",
        "colab": {}
      },
      "source": [
        "np.save('Transfer-learning/model_history2', model_history2)"
      ],
      "execution_count": 77,
      "outputs": []
    },
    {
      "cell_type": "code",
      "metadata": {
        "id": "1zp57JOL6nXf",
        "colab_type": "code",
        "colab": {}
      },
      "source": [
        "model_history2 = np.load('Transfer-learning/model_history2.npy', allow_pickle=True)\n",
        "val_acc2 = model_history2.item().get('val_accuracy')\n",
        "acc2 = model_history2.item().get('accuracy')"
      ],
      "execution_count": 78,
      "outputs": []
    },
    {
      "cell_type": "code",
      "metadata": {
        "id": "mwNbytW06uRb",
        "colab_type": "code",
        "colab": {
          "base_uri": "https://localhost:8080/",
          "height": 34
        },
        "outputId": "82d822ae-7410-4773-d685-a466df9d2f79"
      },
      "source": [
        "#saving the model \n",
        "combined_model_vgg.save('Transfer-learning/model2')"
      ],
      "execution_count": 79,
      "outputs": [
        {
          "output_type": "stream",
          "text": [
            "INFO:tensorflow:Assets written to: Transfer-learning/model2/assets\n"
          ],
          "name": "stdout"
        }
      ]
    },
    {
      "cell_type": "code",
      "metadata": {
        "id": "I6TwAuZASMVe",
        "colab_type": "code",
        "colab": {}
      },
      "source": [
        "#loading the best model\n",
        "Vggresnet= load_model('VGG16-Resnet50')"
      ],
      "execution_count": null,
      "outputs": []
    },
    {
      "cell_type": "code",
      "metadata": {
        "id": "uSe_z3yiVCF_",
        "colab_type": "code",
        "colab": {
          "base_uri": "https://localhost:8080/",
          "height": 51
        },
        "outputId": "525345cf-aeec-4ca7-c638-8bce34d86a79"
      },
      "source": [
        "#evaluate best model\n",
        "Vggresnet.evaluate(rgb_test,test_Y)"
      ],
      "execution_count": null,
      "outputs": [
        {
          "output_type": "stream",
          "text": [
            "5/5 [==============================] - 2s 305ms/step - loss: 0.5056 - accuracy: 0.7943\n"
          ],
          "name": "stdout"
        },
        {
          "output_type": "execute_result",
          "data": {
            "text/plain": [
              "[0.5055732727050781, 0.7943262457847595]"
            ]
          },
          "metadata": {
            "tags": []
          },
          "execution_count": 77
        }
      ]
    },
    {
      "cell_type": "markdown",
      "metadata": {
        "id": "fAwh7Ts4mFh3",
        "colab_type": "text"
      },
      "source": [
        "**Resnet combined model**"
      ]
    },
    {
      "cell_type": "code",
      "metadata": {
        "id": "e8JIuA_Fplqz",
        "colab_type": "code",
        "colab": {}
      },
      "source": [
        "ResNett = ResNet50(weights='imagenet', include_top=False, input_tensor=Input(shape=(256, 256, 3)))\n",
        "ResNet101 = ResNet101(weights='imagenet', include_top=False, input_tensor=Input(shape=(256, 256, 3)))"
      ],
      "execution_count": 89,
      "outputs": []
    },
    {
      "cell_type": "code",
      "metadata": {
        "id": "HqPgWgAmqaot",
        "colab_type": "code",
        "colab": {}
      },
      "source": [
        "for layer in ResNet50.layers:\n",
        "    layer.trainable = False\n",
        "\n",
        "for layer in ResNet101.layers:\n",
        "    layer.trainable = False"
      ],
      "execution_count": 88,
      "outputs": []
    },
    {
      "cell_type": "code",
      "metadata": {
        "id": "BWTRyGkwmEu9",
        "colab_type": "code",
        "colab": {}
      },
      "source": [
        "visible = Input(shape=(256,256,3))\n",
        "\n",
        "model_r1 = ResNet50(visible)\n",
        "model_r2 = ResNet101(visible)"
      ],
      "execution_count": 90,
      "outputs": []
    },
    {
      "cell_type": "code",
      "metadata": {
        "id": "XfnYBShctV7b",
        "colab_type": "code",
        "colab": {}
      },
      "source": [
        "model_r1 = GlobalAveragePooling2D()(model_r1)\n",
        "model_r2 = GlobalAveragePooling2D()(model_r2)"
      ],
      "execution_count": 91,
      "outputs": []
    },
    {
      "cell_type": "code",
      "metadata": {
        "id": "-GwzMniDthcr",
        "colab_type": "code",
        "colab": {}
      },
      "source": [
        "merge3 = concatenate([model_r1,model_r2])"
      ],
      "execution_count": 92,
      "outputs": []
    },
    {
      "cell_type": "code",
      "metadata": {
        "id": "9SRvXF77tp5W",
        "colab_type": "code",
        "colab": {}
      },
      "source": [
        "hidden1 = Dense(500, activation='relu')(merge3)\n",
        "hidden2 = Dense(500, activation='relu')(hidden1)\n",
        "hidden3 = Dense(500, activation='relu')(hidden2)\n",
        "output = Dense(2, activation='softmax')(hidden3)\n",
        "combined_model_resnet = Model(inputs=visible, outputs=output)"
      ],
      "execution_count": 93,
      "outputs": []
    },
    {
      "cell_type": "code",
      "metadata": {
        "id": "Uy2GRlg2WuJ9",
        "colab_type": "code",
        "colab": {}
      },
      "source": [
        "history_res50 = History()\n",
        "checkpoint = ModelCheckpoint('Resnet50-101',monitor='val_accuracy', save_best_only=True)"
      ],
      "execution_count": 94,
      "outputs": []
    },
    {
      "cell_type": "markdown",
      "metadata": {
        "id": "JXGUL4GMLIYm",
        "colab_type": "text"
      },
      "source": [
        "**Compiling and training the model**"
      ]
    },
    {
      "cell_type": "code",
      "metadata": {
        "id": "6Iu0uCxlqvUF",
        "colab_type": "code",
        "colab": {}
      },
      "source": [
        "combined_model_resnet.compile(optimizer=RMSprop(lr=0.0002), loss='binary_crossentropy', metrics=['accuracy'])"
      ],
      "execution_count": 95,
      "outputs": []
    },
    {
      "cell_type": "code",
      "metadata": {
        "id": "d3SoJZ4kq0wV",
        "colab_type": "code",
        "colab": {
          "base_uri": "https://localhost:8080/",
          "height": 1000
        },
        "outputId": "f2c448f7-af01-4b26-9c63-f8851b5fea1d"
      },
      "source": [
        "combined_model_resnet.fit(rgb_train,train_Y,epochs =70,batch_size=2,validation_data = (rgb_test,test_Y), verbose=1,callbacks=[checkpoint,history_res50])"
      ],
      "execution_count": 96,
      "outputs": [
        {
          "output_type": "stream",
          "text": [
            "Epoch 1/70\n",
            "281/282 [============================>.] - ETA: 0s - loss: 0.7355 - accuracy: 0.5569INFO:tensorflow:Assets written to: Resnet50-101/assets\n",
            "282/282 [==============================] - 102s 362ms/step - loss: 0.7348 - accuracy: 0.5577 - val_loss: 0.7464 - val_accuracy: 0.5745\n",
            "Epoch 2/70\n",
            "281/282 [============================>.] - ETA: 0s - loss: 0.6566 - accuracy: 0.6121INFO:tensorflow:Assets written to: Resnet50-101/assets\n",
            "282/282 [==============================] - 97s 343ms/step - loss: 0.6559 - accuracy: 0.6128 - val_loss: 0.8317 - val_accuracy: 0.5887\n",
            "Epoch 3/70\n",
            "282/282 [==============================] - ETA: 0s - loss: 0.6384 - accuracy: 0.6519INFO:tensorflow:Assets written to: Resnet50-101/assets\n",
            "282/282 [==============================] - 89s 317ms/step - loss: 0.6384 - accuracy: 0.6519 - val_loss: 0.5984 - val_accuracy: 0.6738\n",
            "Epoch 4/70\n",
            "282/282 [==============================] - 13s 46ms/step - loss: 0.6163 - accuracy: 0.6536 - val_loss: 0.6708 - val_accuracy: 0.6028\n",
            "Epoch 5/70\n",
            "282/282 [==============================] - 13s 47ms/step - loss: 0.6078 - accuracy: 0.6803 - val_loss: 0.5856 - val_accuracy: 0.6738\n",
            "Epoch 6/70\n",
            "282/282 [==============================] - 13s 46ms/step - loss: 0.5924 - accuracy: 0.7016 - val_loss: 0.6745 - val_accuracy: 0.6738\n",
            "Epoch 7/70\n",
            "282/282 [==============================] - 13s 46ms/step - loss: 0.5842 - accuracy: 0.7105 - val_loss: 0.6675 - val_accuracy: 0.6738\n",
            "Epoch 8/70\n",
            "282/282 [==============================] - 13s 46ms/step - loss: 0.5869 - accuracy: 0.7087 - val_loss: 0.6170 - val_accuracy: 0.6312\n",
            "Epoch 9/70\n",
            "281/282 [============================>.] - ETA: 0s - loss: 0.5856 - accuracy: 0.6904INFO:tensorflow:Assets written to: Resnet50-101/assets\n",
            "282/282 [==============================] - 94s 332ms/step - loss: 0.5894 - accuracy: 0.6892 - val_loss: 0.5841 - val_accuracy: 0.7163\n",
            "Epoch 10/70\n",
            "282/282 [==============================] - 13s 47ms/step - loss: 0.5761 - accuracy: 0.7140 - val_loss: 0.6592 - val_accuracy: 0.6241\n",
            "Epoch 11/70\n",
            "281/282 [============================>.] - ETA: 0s - loss: 0.5757 - accuracy: 0.7206INFO:tensorflow:Assets written to: Resnet50-101/assets\n",
            "282/282 [==============================] - 90s 320ms/step - loss: 0.5768 - accuracy: 0.7194 - val_loss: 0.5521 - val_accuracy: 0.7234\n",
            "Epoch 12/70\n",
            "282/282 [==============================] - ETA: 0s - loss: 0.5546 - accuracy: 0.7123INFO:tensorflow:Assets written to: Resnet50-101/assets\n",
            "282/282 [==============================] - 89s 315ms/step - loss: 0.5546 - accuracy: 0.7123 - val_loss: 0.7741 - val_accuracy: 0.7447\n",
            "Epoch 13/70\n",
            "282/282 [==============================] - 13s 46ms/step - loss: 0.5837 - accuracy: 0.7194 - val_loss: 0.6015 - val_accuracy: 0.6667\n",
            "Epoch 14/70\n",
            "282/282 [==============================] - 13s 46ms/step - loss: 0.5625 - accuracy: 0.6963 - val_loss: 0.5663 - val_accuracy: 0.7376\n",
            "Epoch 15/70\n",
            "282/282 [==============================] - 13s 46ms/step - loss: 0.5601 - accuracy: 0.7229 - val_loss: 0.6596 - val_accuracy: 0.7305\n",
            "Epoch 16/70\n",
            "282/282 [==============================] - 13s 45ms/step - loss: 0.5552 - accuracy: 0.7318 - val_loss: 0.5841 - val_accuracy: 0.6809\n",
            "Epoch 17/70\n",
            "282/282 [==============================] - 13s 45ms/step - loss: 0.5518 - accuracy: 0.7300 - val_loss: 0.5981 - val_accuracy: 0.7163\n",
            "Epoch 18/70\n",
            "282/282 [==============================] - 13s 45ms/step - loss: 0.5577 - accuracy: 0.7265 - val_loss: 0.6276 - val_accuracy: 0.7021\n",
            "Epoch 19/70\n",
            "282/282 [==============================] - 13s 45ms/step - loss: 0.5538 - accuracy: 0.7176 - val_loss: 0.5902 - val_accuracy: 0.7092\n",
            "Epoch 20/70\n",
            "282/282 [==============================] - 13s 45ms/step - loss: 0.5770 - accuracy: 0.7353 - val_loss: 0.5704 - val_accuracy: 0.7092\n",
            "Epoch 21/70\n",
            "282/282 [==============================] - 13s 46ms/step - loss: 0.5723 - accuracy: 0.7371 - val_loss: 0.6178 - val_accuracy: 0.6170\n",
            "Epoch 22/70\n",
            "282/282 [==============================] - 13s 45ms/step - loss: 0.5724 - accuracy: 0.7389 - val_loss: 0.5401 - val_accuracy: 0.7163\n",
            "Epoch 23/70\n",
            "282/282 [==============================] - 13s 45ms/step - loss: 0.5526 - accuracy: 0.7247 - val_loss: 0.6020 - val_accuracy: 0.7021\n",
            "Epoch 24/70\n",
            "282/282 [==============================] - 13s 45ms/step - loss: 0.5442 - accuracy: 0.7211 - val_loss: 0.5642 - val_accuracy: 0.7376\n",
            "Epoch 25/70\n",
            "282/282 [==============================] - 13s 45ms/step - loss: 0.5888 - accuracy: 0.7140 - val_loss: 0.5497 - val_accuracy: 0.7305\n",
            "Epoch 26/70\n",
            "282/282 [==============================] - 13s 45ms/step - loss: 0.5631 - accuracy: 0.7478 - val_loss: 0.7157 - val_accuracy: 0.7021\n",
            "Epoch 27/70\n",
            "282/282 [==============================] - 13s 45ms/step - loss: 0.5494 - accuracy: 0.7353 - val_loss: 1.6970 - val_accuracy: 0.5745\n",
            "Epoch 28/70\n",
            "282/282 [==============================] - 13s 45ms/step - loss: 0.5586 - accuracy: 0.7229 - val_loss: 0.6557 - val_accuracy: 0.6809\n",
            "Epoch 29/70\n",
            "282/282 [==============================] - 13s 45ms/step - loss: 0.5444 - accuracy: 0.7478 - val_loss: 1.2481 - val_accuracy: 0.6312\n",
            "Epoch 30/70\n",
            "282/282 [==============================] - 13s 45ms/step - loss: 0.5377 - accuracy: 0.7638 - val_loss: 0.5708 - val_accuracy: 0.6596\n",
            "Epoch 31/70\n",
            "282/282 [==============================] - 13s 45ms/step - loss: 0.5696 - accuracy: 0.7176 - val_loss: 0.8860 - val_accuracy: 0.7234\n",
            "Epoch 32/70\n",
            "282/282 [==============================] - 13s 45ms/step - loss: 0.5545 - accuracy: 0.7602 - val_loss: 0.6282 - val_accuracy: 0.7092\n",
            "Epoch 33/70\n",
            "281/282 [============================>.] - ETA: 0s - loss: 0.5274 - accuracy: 0.7313INFO:tensorflow:Assets written to: Resnet50-101/assets\n",
            "282/282 [==============================] - 88s 311ms/step - loss: 0.5265 - accuracy: 0.7318 - val_loss: 0.5427 - val_accuracy: 0.7730\n",
            "Epoch 34/70\n",
            "282/282 [==============================] - 13s 46ms/step - loss: 0.5589 - accuracy: 0.7602 - val_loss: 0.8421 - val_accuracy: 0.7447\n",
            "Epoch 35/70\n",
            "282/282 [==============================] - 13s 45ms/step - loss: 0.5314 - accuracy: 0.7318 - val_loss: 0.6243 - val_accuracy: 0.7092\n",
            "Epoch 36/70\n",
            "282/282 [==============================] - 13s 46ms/step - loss: 0.5322 - accuracy: 0.7496 - val_loss: 0.7321 - val_accuracy: 0.6525\n",
            "Epoch 37/70\n",
            "282/282 [==============================] - 13s 46ms/step - loss: 0.5484 - accuracy: 0.7531 - val_loss: 0.5625 - val_accuracy: 0.7234\n",
            "Epoch 38/70\n",
            "282/282 [==============================] - 13s 45ms/step - loss: 0.5281 - accuracy: 0.7513 - val_loss: 0.5583 - val_accuracy: 0.6667\n",
            "Epoch 39/70\n",
            "282/282 [==============================] - 13s 45ms/step - loss: 0.5565 - accuracy: 0.7584 - val_loss: 0.5463 - val_accuracy: 0.7305\n",
            "Epoch 40/70\n",
            "282/282 [==============================] - 13s 45ms/step - loss: 0.5200 - accuracy: 0.7726 - val_loss: 1.1588 - val_accuracy: 0.6738\n",
            "Epoch 41/70\n",
            "282/282 [==============================] - 13s 45ms/step - loss: 0.5893 - accuracy: 0.7353 - val_loss: 0.5337 - val_accuracy: 0.7163\n",
            "Epoch 42/70\n",
            "282/282 [==============================] - 13s 45ms/step - loss: 0.5404 - accuracy: 0.7300 - val_loss: 0.7252 - val_accuracy: 0.7447\n",
            "Epoch 43/70\n",
            "282/282 [==============================] - 13s 45ms/step - loss: 0.5152 - accuracy: 0.7886 - val_loss: 0.5414 - val_accuracy: 0.7092\n",
            "Epoch 44/70\n",
            "282/282 [==============================] - 13s 45ms/step - loss: 0.5284 - accuracy: 0.7655 - val_loss: 0.7008 - val_accuracy: 0.7730\n",
            "Epoch 45/70\n",
            "282/282 [==============================] - 13s 45ms/step - loss: 0.5311 - accuracy: 0.7655 - val_loss: 0.8346 - val_accuracy: 0.7589\n",
            "Epoch 46/70\n",
            "282/282 [==============================] - 13s 45ms/step - loss: 0.5281 - accuracy: 0.7371 - val_loss: 1.0724 - val_accuracy: 0.6241\n",
            "Epoch 47/70\n",
            "282/282 [==============================] - 13s 45ms/step - loss: 0.5237 - accuracy: 0.7620 - val_loss: 0.6878 - val_accuracy: 0.7730\n",
            "Epoch 48/70\n",
            "282/282 [==============================] - 13s 45ms/step - loss: 0.5103 - accuracy: 0.7673 - val_loss: 1.1580 - val_accuracy: 0.6312\n",
            "Epoch 49/70\n",
            "282/282 [==============================] - 13s 45ms/step - loss: 0.5361 - accuracy: 0.7851 - val_loss: 0.5152 - val_accuracy: 0.7518\n",
            "Epoch 50/70\n",
            "282/282 [==============================] - 13s 45ms/step - loss: 0.4920 - accuracy: 0.7798 - val_loss: 0.6493 - val_accuracy: 0.6667\n",
            "Epoch 51/70\n",
            "282/282 [==============================] - 13s 45ms/step - loss: 0.4986 - accuracy: 0.7584 - val_loss: 0.6750 - val_accuracy: 0.7092\n",
            "Epoch 52/70\n",
            "282/282 [==============================] - 13s 45ms/step - loss: 0.5442 - accuracy: 0.7353 - val_loss: 0.5459 - val_accuracy: 0.7589\n",
            "Epoch 53/70\n",
            "282/282 [==============================] - 13s 45ms/step - loss: 0.5246 - accuracy: 0.7798 - val_loss: 0.5997 - val_accuracy: 0.7234\n",
            "Epoch 54/70\n",
            "282/282 [==============================] - 13s 45ms/step - loss: 0.4915 - accuracy: 0.7638 - val_loss: 0.5260 - val_accuracy: 0.7660\n",
            "Epoch 55/70\n",
            "282/282 [==============================] - 13s 45ms/step - loss: 0.5106 - accuracy: 0.7780 - val_loss: 0.8590 - val_accuracy: 0.7589\n",
            "Epoch 56/70\n",
            "282/282 [==============================] - 13s 45ms/step - loss: 0.5380 - accuracy: 0.7567 - val_loss: 0.9704 - val_accuracy: 0.6809\n",
            "Epoch 57/70\n",
            "282/282 [==============================] - 13s 45ms/step - loss: 0.5238 - accuracy: 0.7655 - val_loss: 0.5916 - val_accuracy: 0.6099\n",
            "Epoch 58/70\n",
            "282/282 [==============================] - 13s 45ms/step - loss: 0.5116 - accuracy: 0.7709 - val_loss: 1.9031 - val_accuracy: 0.6312\n",
            "Epoch 59/70\n",
            "282/282 [==============================] - 13s 45ms/step - loss: 0.5272 - accuracy: 0.7922 - val_loss: 0.7244 - val_accuracy: 0.7163\n",
            "Epoch 60/70\n",
            "282/282 [==============================] - 13s 45ms/step - loss: 0.4993 - accuracy: 0.7975 - val_loss: 0.5945 - val_accuracy: 0.7447\n",
            "Epoch 61/70\n",
            "282/282 [==============================] - 13s 45ms/step - loss: 0.4981 - accuracy: 0.7584 - val_loss: 0.5831 - val_accuracy: 0.7730\n",
            "Epoch 62/70\n",
            "282/282 [==============================] - 13s 45ms/step - loss: 0.5334 - accuracy: 0.7602 - val_loss: 0.7910 - val_accuracy: 0.5816\n",
            "Epoch 63/70\n",
            "282/282 [==============================] - 13s 45ms/step - loss: 0.5195 - accuracy: 0.7638 - val_loss: 0.8171 - val_accuracy: 0.6879\n",
            "Epoch 64/70\n",
            "282/282 [==============================] - 13s 45ms/step - loss: 0.4996 - accuracy: 0.8082 - val_loss: 0.6652 - val_accuracy: 0.7518\n",
            "Epoch 65/70\n",
            "282/282 [==============================] - 13s 45ms/step - loss: 0.5111 - accuracy: 0.7798 - val_loss: 0.5868 - val_accuracy: 0.7589\n",
            "Epoch 66/70\n",
            "282/282 [==============================] - 13s 45ms/step - loss: 0.4715 - accuracy: 0.7744 - val_loss: 1.4007 - val_accuracy: 0.7589\n",
            "Epoch 67/70\n",
            "282/282 [==============================] - 13s 45ms/step - loss: 0.4888 - accuracy: 0.8064 - val_loss: 0.6555 - val_accuracy: 0.6950\n",
            "Epoch 68/70\n",
            "282/282 [==============================] - 13s 45ms/step - loss: 0.4721 - accuracy: 0.7815 - val_loss: 0.5782 - val_accuracy: 0.7376\n",
            "Epoch 69/70\n",
            "282/282 [==============================] - 13s 45ms/step - loss: 0.4793 - accuracy: 0.7780 - val_loss: 0.6677 - val_accuracy: 0.7021\n",
            "Epoch 70/70\n",
            "282/282 [==============================] - 13s 45ms/step - loss: 0.5399 - accuracy: 0.7869 - val_loss: 0.8469 - val_accuracy: 0.6525\n"
          ],
          "name": "stdout"
        },
        {
          "output_type": "execute_result",
          "data": {
            "text/plain": [
              "<tensorflow.python.keras.callbacks.History at 0x7ff1ecb879e8>"
            ]
          },
          "metadata": {
            "tags": []
          },
          "execution_count": 96
        }
      ]
    },
    {
      "cell_type": "code",
      "metadata": {
        "id": "iM97OXPP_F5F",
        "colab_type": "code",
        "colab": {}
      },
      "source": [
        "model_history3 = np.array(history_res50.history)\n"
      ],
      "execution_count": 97,
      "outputs": []
    },
    {
      "cell_type": "code",
      "metadata": {
        "id": "_UoOj26VAJox",
        "colab_type": "code",
        "colab": {}
      },
      "source": [
        "np.save('Transfer-learning/model_history3', model_history3)"
      ],
      "execution_count": 98,
      "outputs": []
    },
    {
      "cell_type": "code",
      "metadata": {
        "id": "90n1vbS_AL-9",
        "colab_type": "code",
        "colab": {}
      },
      "source": [
        "model_history3 = np.load('Transfer-learning/model_history3.npy', allow_pickle=True)\n",
        "val_acc3 = model_history2.item().get('val_accuracy')\n",
        "acc3 = model_history2.item().get('accuracy')"
      ],
      "execution_count": 99,
      "outputs": []
    },
    {
      "cell_type": "code",
      "metadata": {
        "id": "-s4WsJH7ATTF",
        "colab_type": "code",
        "colab": {
          "base_uri": "https://localhost:8080/"
        },
        "outputId": "f916c746-75d4-41f9-e9c2-a601ac94a74c"
      },
      "source": [
        "#saving the model \n",
        "combined_model_resnet.save('Transfer-learning/model3')"
      ],
      "execution_count": 100,
      "outputs": [
        {
          "output_type": "stream",
          "text": [
            "INFO:tensorflow:Assets written to: Transfer-learning/model3/assets\n"
          ],
          "name": "stdout"
        }
      ]
    },
    {
      "cell_type": "markdown",
      "metadata": {
        "id": "i9RIKhm0ened",
        "colab_type": "text"
      },
      "source": [
        "**Evaluating all models**"
      ]
    },
    {
      "cell_type": "code",
      "metadata": {
        "id": "6msNxLdcerRE",
        "colab_type": "code",
        "colab": {
          "base_uri": "https://localhost:8080/",
          "height": 68
        },
        "outputId": "d049577b-a872-462f-8e4d-48ae45780745"
      },
      "source": [
        "print(\"Feature combination: Resnet50 and Inception V3\")\n",
        "Resnetv3 = load_model('Resnet-v3')\n",
        "Resnetv3.evaluate(rgb_test,test_Y)"
      ],
      "execution_count": 107,
      "outputs": [
        {
          "output_type": "stream",
          "text": [
            "Feature combination: Resnet50 and Inception V3\n",
            "5/5 [==============================] - 1s 141ms/step - loss: 0.6384 - accuracy: 0.7730\n"
          ],
          "name": "stdout"
        },
        {
          "output_type": "execute_result",
          "data": {
            "text/plain": [
              "[0.6384482383728027, 0.7730496525764465]"
            ]
          },
          "metadata": {
            "tags": []
          },
          "execution_count": 107
        }
      ]
    },
    {
      "cell_type": "code",
      "metadata": {
        "id": "B_NUasUwfRco",
        "colab_type": "code",
        "colab": {
          "base_uri": "https://localhost:8080/",
          "height": 68
        },
        "outputId": "ca6f591b-b4ce-4a41-a1fa-8311e3dcf4b5"
      },
      "source": [
        "print(\"feature combination of vgg16 and resnet 50\")\n",
        "history_resv = History()\n",
        "Resnetvgg16 = load_model('VGG16-Resnet50')\n",
        "Resnetvgg16.evaluate(rgb_test,test_Y)"
      ],
      "execution_count": 108,
      "outputs": [
        {
          "output_type": "stream",
          "text": [
            "feature combination of vgg16 and resnet 50\n",
            "5/5 [==============================] - 2s 314ms/step - loss: 0.4808 - accuracy: 0.8085\n"
          ],
          "name": "stdout"
        },
        {
          "output_type": "execute_result",
          "data": {
            "text/plain": [
              "[0.4807780385017395, 0.8085106611251831]"
            ]
          },
          "metadata": {
            "tags": []
          },
          "execution_count": 108
        }
      ]
    },
    {
      "cell_type": "code",
      "metadata": {
        "id": "BS4w3hJmgCwW",
        "colab_type": "code",
        "colab": {
          "base_uri": "https://localhost:8080/",
          "height": 68
        },
        "outputId": "c0d0521a-db0e-4100-d072-776ba25a9721"
      },
      "source": [
        "print(\"feature combination of resnet101 and resnet 50\")\n",
        "history_res50 = History()\n",
        "Res50101 = load_model('Resnet50-101')\n",
        "Res50101.evaluate(rgb_test,test_Y)"
      ],
      "execution_count": 109,
      "outputs": [
        {
          "output_type": "stream",
          "text": [
            "feature combination of resnet101 and resnet 50\n",
            "5/5 [==============================] - 1s 214ms/step - loss: 0.5427 - accuracy: 0.7730\n"
          ],
          "name": "stdout"
        },
        {
          "output_type": "execute_result",
          "data": {
            "text/plain": [
              "[0.5426691770553589, 0.7730496525764465]"
            ]
          },
          "metadata": {
            "tags": []
          },
          "execution_count": 109
        }
      ]
    },
    {
      "cell_type": "markdown",
      "metadata": {
        "id": "x4zyACClKB2R",
        "colab_type": "text"
      },
      "source": [
        "**Plotting the best model accuracy**"
      ]
    },
    {
      "cell_type": "code",
      "metadata": {
        "id": "Rfy_Gu6EiIb_",
        "colab_type": "code",
        "colab": {
          "base_uri": "https://localhost:8080/",
          "height": 458
        },
        "outputId": "62c385d0-7663-4a5c-f43f-1e79b0b8e85c"
      },
      "source": [
        "plt.figure(figsize=(7,7))\n",
        "plt.plot(acc2)\n",
        "plt.plot(val_acc2)\n",
        "plt.title('Accuracy')\n",
        "plt.ylabel('Accuracy')\n",
        "plt.xlabel('epoch')\n",
        "plt.legend(['Training accuracy of Best model', 'Validation accuracy of best model '  ], loc='lower right')\n",
        "plt.show()"
      ],
      "execution_count": 112,
      "outputs": [
        {
          "output_type": "display_data",
          "data": {
            "image/png": "[encoded data removed]",
            "text/plain": [
              "<Figure size 504x504 with 1 Axes>"
            ]
          },
          "metadata": {
            "tags": [],
            "needs_background": "light"
          }
        }
      ]
    },
    {
      "cell_type": "markdown",
      "metadata": {
        "id": "Dkz6zY1_Kb91",
        "colab_type": "text"
      },
      "source": [
        "**CNN combined model**"
      ]
    },
    {
      "cell_type": "code",
      "metadata": {
        "id": "1SqLmTbHhk_X",
        "colab_type": "code",
        "colab": {}
      },
      "source": [
        "cnn_input = Input(shape=(256,256,1))\n",
        "# first model\n",
        "model1 = Conv2D(150, kernel_size=3, activation='relu')(cnn_input)\n",
        "model1= MaxPooling2D(pool_size=(2, 2))(model1)\n",
        "model1 = Conv2D(100, kernel_size=2, activation='relu')(model1)\n",
        "model1= MaxPooling2D(pool_size=(2, 2))(model1)\n",
        "model1 = Conv2D(70, kernel_size=3, activation='relu')(model1)\n",
        "model1= MaxPooling2D(pool_size=(2, 2))(model1)\n",
        "model1 = Conv2D(40, kernel_size=3, activation='relu')(model1)\n",
        "model1= MaxPooling2D(pool_size=(2, 2))(model1)\n",
        "model1 = Conv2D(30, kernel_size=3, activation='relu')(model1)\n",
        "model1= MaxPooling2D(pool_size=(2, 2))(model1)\n",
        "flat1 = Flatten()(model1)"
      ],
      "execution_count": 116,
      "outputs": []
    },
    {
      "cell_type": "code",
      "metadata": {
        "id": "Ou-S-bvaaydd",
        "colab_type": "code",
        "colab": {}
      },
      "source": [
        "# second model\n",
        "model2 = Conv2D(100, kernel_size=4, activation='relu')(cnn_input)\n",
        "model2 = MaxPooling2D(pool_size=(2, 2))(model2)\n",
        "model2 = Conv2D(70, kernel_size=4, activation='relu')(model2)\n",
        "model2 = MaxPooling2D(pool_size=(2, 2))(model2)\n",
        "model2 = Conv2D(40, kernel_size=4, activation='relu')(model2)\n",
        "model2 = MaxPooling2D(pool_size=(2, 2))(model2)\n",
        "model2 = Conv2D(30, kernel_size=4, activation='relu')(model2)\n",
        "model2 = MaxPooling2D(pool_size=(2, 2))(model2)\n",
        "model2 = Conv2D(30, kernel_size=4, activation='relu')(model2)\n",
        "model2 = MaxPooling2D(pool_size=(2, 2))(model2)\n",
        "flat2 = Flatten()(model2)"
      ],
      "execution_count": 117,
      "outputs": []
    },
    {
      "cell_type": "code",
      "metadata": {
        "id": "4alkFzifXvqX",
        "colab_type": "code",
        "colab": {}
      },
      "source": [
        "# merge feature extractors\n",
        "merge = concatenate([flat1, flat2])\n",
        "# interpretation layer\n",
        "hidden1 = Dense(500, activation='relu')(merge)\n",
        "hidden1 = Dense(250, activation='relu')(hidden1)\n",
        "hidden1 = Dense(250, activation='relu')(hidden1)\n",
        "hidden1 = Dense(100, activation='relu')(hidden1)\n",
        "# prediction output\n",
        "output = Dense(2, activation='softmax')(hidden1)\n",
        "model_3 = Model(inputs=cnn_input, outputs=output)\n",
        "# summarize layers\n"
      ],
      "execution_count": 118,
      "outputs": []
    },
    {
      "cell_type": "code",
      "metadata": {
        "id": "6SnuFwMsngsA",
        "colab_type": "code",
        "colab": {}
      },
      "source": [
        "model_3.compile(loss='binary_crossentropy',optimizer='adam',metrics=['accuracy'])"
      ],
      "execution_count": 119,
      "outputs": []
    },
    {
      "cell_type": "code",
      "metadata": {
        "id": "F07J4IkF9I2E",
        "colab_type": "code",
        "colab": {
          "base_uri": "https://localhost:8080/",
          "height": 1000
        },
        "outputId": "5b45dc7a-1786-4ed2-959e-c08fb7f30c32"
      },
      "source": [
        "history_3 = model_3.fit(pred_train,train_Y,epochs=50,batch_size =2, validation_data = (pred_test, test_Y), verbose=1)"
      ],
      "execution_count": 120,
      "outputs": [
        {
          "output_type": "stream",
          "text": [
            "Epoch 1/50\n",
            "282/282 [==============================] - 9s 33ms/step - loss: 0.6966 - accuracy: 0.4902 - val_loss: 0.6912 - val_accuracy: 0.5461\n",
            "Epoch 2/50\n",
            "282/282 [==============================] - 9s 31ms/step - loss: 0.6942 - accuracy: 0.5009 - val_loss: 0.6929 - val_accuracy: 0.5461\n",
            "Epoch 3/50\n",
            "282/282 [==============================] - 9s 31ms/step - loss: 0.6937 - accuracy: 0.4707 - val_loss: 0.6932 - val_accuracy: 0.4539\n",
            "Epoch 4/50\n",
            "282/282 [==============================] - 9s 31ms/step - loss: 0.6934 - accuracy: 0.4476 - val_loss: 0.6928 - val_accuracy: 0.5461\n",
            "Epoch 5/50\n",
            "282/282 [==============================] - 9s 31ms/step - loss: 0.6935 - accuracy: 0.5009 - val_loss: 0.6929 - val_accuracy: 0.5461\n",
            "Epoch 6/50\n",
            "282/282 [==============================] - 9s 32ms/step - loss: 0.6934 - accuracy: 0.4938 - val_loss: 0.6928 - val_accuracy: 0.5461\n",
            "Epoch 7/50\n",
            "282/282 [==============================] - 9s 31ms/step - loss: 0.6934 - accuracy: 0.4796 - val_loss: 0.6927 - val_accuracy: 0.5461\n",
            "Epoch 8/50\n",
            "282/282 [==============================] - 9s 31ms/step - loss: 0.6937 - accuracy: 0.4600 - val_loss: 0.6931 - val_accuracy: 0.5461\n",
            "Epoch 9/50\n",
            "282/282 [==============================] - 9s 31ms/step - loss: 0.6934 - accuracy: 0.4938 - val_loss: 0.6927 - val_accuracy: 0.5461\n",
            "Epoch 10/50\n",
            "282/282 [==============================] - 9s 31ms/step - loss: 0.6934 - accuracy: 0.5009 - val_loss: 0.6928 - val_accuracy: 0.5461\n",
            "Epoch 11/50\n",
            "282/282 [==============================] - 9s 31ms/step - loss: 0.6935 - accuracy: 0.4831 - val_loss: 0.6929 - val_accuracy: 0.5461\n",
            "Epoch 12/50\n",
            "282/282 [==============================] - 9s 31ms/step - loss: 0.6934 - accuracy: 0.4920 - val_loss: 0.6932 - val_accuracy: 0.4539\n",
            "Epoch 13/50\n",
            "282/282 [==============================] - 9s 31ms/step - loss: 0.6935 - accuracy: 0.4831 - val_loss: 0.6930 - val_accuracy: 0.5461\n",
            "Epoch 14/50\n",
            "282/282 [==============================] - 9s 31ms/step - loss: 0.6934 - accuracy: 0.4849 - val_loss: 0.6932 - val_accuracy: 0.4539\n",
            "Epoch 15/50\n",
            "282/282 [==============================] - 9s 31ms/step - loss: 0.6934 - accuracy: 0.4689 - val_loss: 0.6930 - val_accuracy: 0.5461\n",
            "Epoch 16/50\n",
            "282/282 [==============================] - 9s 31ms/step - loss: 0.6936 - accuracy: 0.4885 - val_loss: 0.6934 - val_accuracy: 0.4539\n",
            "Epoch 17/50\n",
            "282/282 [==============================] - 9s 31ms/step - loss: 0.6935 - accuracy: 0.4636 - val_loss: 0.6935 - val_accuracy: 0.4539\n",
            "Epoch 18/50\n",
            "282/282 [==============================] - 9s 31ms/step - loss: 0.6935 - accuracy: 0.4885 - val_loss: 0.6934 - val_accuracy: 0.4539\n",
            "Epoch 19/50\n",
            "282/282 [==============================] - 9s 31ms/step - loss: 0.6935 - accuracy: 0.4671 - val_loss: 0.6934 - val_accuracy: 0.4539\n",
            "Epoch 20/50\n",
            "282/282 [==============================] - 9s 31ms/step - loss: 0.6935 - accuracy: 0.4742 - val_loss: 0.6937 - val_accuracy: 0.4539\n",
            "Epoch 21/50\n",
            "282/282 [==============================] - 9s 31ms/step - loss: 0.6933 - accuracy: 0.4849 - val_loss: 0.6933 - val_accuracy: 0.4539\n",
            "Epoch 22/50\n",
            "282/282 [==============================] - 9s 31ms/step - loss: 0.6934 - accuracy: 0.4654 - val_loss: 0.6930 - val_accuracy: 0.5461\n",
            "Epoch 23/50\n",
            "282/282 [==============================] - 9s 31ms/step - loss: 0.6934 - accuracy: 0.4956 - val_loss: 0.6933 - val_accuracy: 0.4539\n",
            "Epoch 24/50\n",
            "282/282 [==============================] - 9s 31ms/step - loss: 0.6936 - accuracy: 0.4938 - val_loss: 0.6929 - val_accuracy: 0.5461\n",
            "Epoch 25/50\n",
            "282/282 [==============================] - 9s 31ms/step - loss: 0.6934 - accuracy: 0.4920 - val_loss: 0.6932 - val_accuracy: 0.4539\n",
            "Epoch 26/50\n",
            "282/282 [==============================] - 9s 31ms/step - loss: 0.6934 - accuracy: 0.4760 - val_loss: 0.6929 - val_accuracy: 0.5461\n",
            "Epoch 27/50\n",
            "282/282 [==============================] - 9s 31ms/step - loss: 0.6935 - accuracy: 0.4725 - val_loss: 0.6928 - val_accuracy: 0.5461\n",
            "Epoch 28/50\n",
            "282/282 [==============================] - 9s 31ms/step - loss: 0.6934 - accuracy: 0.4991 - val_loss: 0.6932 - val_accuracy: 0.4539\n",
            "Epoch 29/50\n",
            "282/282 [==============================] - 9s 31ms/step - loss: 0.6935 - accuracy: 0.4973 - val_loss: 0.6930 - val_accuracy: 0.5461\n",
            "Epoch 30/50\n",
            "282/282 [==============================] - 9s 31ms/step - loss: 0.6936 - accuracy: 0.4831 - val_loss: 0.6931 - val_accuracy: 0.5461\n",
            "Epoch 31/50\n",
            "282/282 [==============================] - 9s 31ms/step - loss: 0.6934 - accuracy: 0.5009 - val_loss: 0.6931 - val_accuracy: 0.5461\n",
            "Epoch 32/50\n",
            "282/282 [==============================] - 9s 31ms/step - loss: 0.6934 - accuracy: 0.4867 - val_loss: 0.6931 - val_accuracy: 0.5461\n",
            "Epoch 33/50\n",
            "282/282 [==============================] - 9s 31ms/step - loss: 0.6933 - accuracy: 0.4654 - val_loss: 0.6930 - val_accuracy: 0.5461\n",
            "Epoch 34/50\n",
            "282/282 [==============================] - 9s 31ms/step - loss: 0.6936 - accuracy: 0.4689 - val_loss: 0.6930 - val_accuracy: 0.5461\n",
            "Epoch 35/50\n",
            "282/282 [==============================] - 9s 31ms/step - loss: 0.6936 - accuracy: 0.4920 - val_loss: 0.6933 - val_accuracy: 0.4539\n",
            "Epoch 36/50\n",
            "282/282 [==============================] - 9s 31ms/step - loss: 0.6935 - accuracy: 0.4885 - val_loss: 0.6932 - val_accuracy: 0.4539\n",
            "Epoch 37/50\n",
            "282/282 [==============================] - 9s 31ms/step - loss: 0.6935 - accuracy: 0.4813 - val_loss: 0.6934 - val_accuracy: 0.4539\n",
            "Epoch 38/50\n",
            "282/282 [==============================] - 9s 31ms/step - loss: 0.6935 - accuracy: 0.4796 - val_loss: 0.6927 - val_accuracy: 0.5461\n",
            "Epoch 39/50\n",
            "282/282 [==============================] - 9s 31ms/step - loss: 0.6934 - accuracy: 0.4902 - val_loss: 0.6928 - val_accuracy: 0.5461\n",
            "Epoch 40/50\n",
            "282/282 [==============================] - 9s 31ms/step - loss: 0.6934 - accuracy: 0.4476 - val_loss: 0.6930 - val_accuracy: 0.5461\n",
            "Epoch 41/50\n",
            "282/282 [==============================] - 9s 31ms/step - loss: 0.6934 - accuracy: 0.4725 - val_loss: 0.6927 - val_accuracy: 0.5461\n",
            "Epoch 42/50\n",
            "282/282 [==============================] - 9s 31ms/step - loss: 0.6934 - accuracy: 0.5009 - val_loss: 0.6927 - val_accuracy: 0.5461\n",
            "Epoch 43/50\n",
            "282/282 [==============================] - 9s 31ms/step - loss: 0.6934 - accuracy: 0.4689 - val_loss: 0.6931 - val_accuracy: 0.5461\n",
            "Epoch 44/50\n",
            "282/282 [==============================] - 9s 31ms/step - loss: 0.6935 - accuracy: 0.4742 - val_loss: 0.6932 - val_accuracy: 0.4539\n",
            "Epoch 45/50\n",
            "282/282 [==============================] - 9s 31ms/step - loss: 0.6935 - accuracy: 0.4689 - val_loss: 0.6930 - val_accuracy: 0.5461\n",
            "Epoch 46/50\n",
            "282/282 [==============================] - 9s 31ms/step - loss: 0.6936 - accuracy: 0.4725 - val_loss: 0.6929 - val_accuracy: 0.5461\n",
            "Epoch 47/50\n",
            "282/282 [==============================] - 9s 31ms/step - loss: 0.6935 - accuracy: 0.4885 - val_loss: 0.6933 - val_accuracy: 0.4539\n",
            "Epoch 48/50\n",
            "282/282 [==============================] - 9s 31ms/step - loss: 0.6934 - accuracy: 0.4760 - val_loss: 0.6930 - val_accuracy: 0.5461\n",
            "Epoch 49/50\n",
            "282/282 [==============================] - 9s 31ms/step - loss: 0.6935 - accuracy: 0.4796 - val_loss: 0.6931 - val_accuracy: 0.5461\n",
            "Epoch 50/50\n",
            "282/282 [==============================] - 9s 31ms/step - loss: 0.6935 - accuracy: 0.4689 - val_loss: 0.6929 - val_accuracy: 0.5461\n"
          ],
          "name": "stdout"
        }
      ]
    },
    {
      "cell_type": "code",
      "metadata": {
        "id": "WJ1iUqFKlKJN",
        "colab_type": "code",
        "colab": {
          "base_uri": "https://localhost:8080/",
          "height": 51
        },
        "outputId": "95a010a4-0a2a-4f4e-e2e7-51ee4d60041d"
      },
      "source": [
        "model_3.evaluate(pred_test,test_Y)"
      ],
      "execution_count": 121,
      "outputs": [
        {
          "output_type": "stream",
          "text": [
            "5/5 [==============================] - 1s 166ms/step - loss: 0.6929 - accuracy: 0.5461\n"
          ],
          "name": "stdout"
        },
        {
          "output_type": "execute_result",
          "data": {
            "text/plain": [
              "[0.6929291486740112, 0.5460993051528931]"
            ]
          },
          "metadata": {
            "tags": []
          },
          "execution_count": 121
        }
      ]
    },
    {
      "cell_type": "code",
      "metadata": {
        "id": "xVszGD-zyBhF",
        "colab_type": "code",
        "colab": {}
      },
      "source": [
        ""
      ],
      "execution_count": null,
      "outputs": []
    },
    {
      "cell_type": "code",
      "metadata": {
        "id": "x9lxg7ZSx65-",
        "colab_type": "code",
        "colab": {}
      },
      "source": [
        ""
      ],
      "execution_count": null,
      "outputs": []
    },
    {
      "cell_type": "code",
      "metadata": {
        "id": "TAHHTIHd747Z",
        "colab_type": "code",
        "colab": {}
      },
      "source": [
        ""
      ],
      "execution_count": null,
      "outputs": []
    },
    {
      "cell_type": "code",
      "metadata": {
        "id": "FavuR26PphGz",
        "colab_type": "code",
        "colab": {}
      },
      "source": [
        ""
      ],
      "execution_count": null,
      "outputs": []
    }
  ]
}